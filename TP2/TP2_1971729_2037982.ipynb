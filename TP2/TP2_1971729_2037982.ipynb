{
 "cells": [
  {
   "cell_type": "markdown",
   "metadata": {},
   "source": [
    "## 1) Supposons que je lis le document numéro '422908' dans ma matrice. Appliquez l'algorithme Page rank pour déterminer les autres lectures recommandées. En plus de la simple recommandation des références de '422908', appliquez au moins une variation de cette approche de base, comme celle exposée en classe qui consiste à étendre le sous-ensemble S (références) à S' (références des références). Expliquez la démarche que vous avez prise."
   ]
  },
  {
   "cell_type": "markdown",
   "metadata": {},
   "source": [
    "Dans un premier temps on extrait la matrice :"
   ]
  },
  {
   "cell_type": "code",
   "execution_count": 1,
   "metadata": {},
   "outputs": [],
   "source": [
    "m = as.matrix(read.table(\"./citeseer.rtable\"))"
   ]
  },
  {
   "cell_type": "markdown",
   "metadata": {},
   "source": [
    "On va réutiliser les fonctions de cosinus de la correction du TP1 :"
   ]
  },
  {
   "cell_type": "code",
   "execution_count": 2,
   "metadata": {},
   "outputs": [],
   "source": [
    "## Cosinus entre un vecteur v et chaque colonne dela matrice m\n",
    "cosinus.vm <- function(v,m) { n <- sqrt(colSums(m^2)); (v %*% m)/(n * sqrt(sum(v^2))) }\n",
    "## Cosinus des colonnes d'une matrice\n",
    "cosinus.mm <- function(m) { n <- sqrt(colSums(m^2)); crossprod(m)/(n %o% n) }\n",
    "# Trouve les indexes des premières 'n' valeurs maximales d'une matrice\n",
    "max.nindex <- function(m, n=5) {\n",
    "  i <- order(m, decreasing=TRUE)\n",
    "  return(i[1:n])\n",
    "}\n",
    "min.nindex <- function(m, n=5) {\n",
    "  i <- order(m)\n",
    "  return(i[1:n])\n",
    "}"
   ]
  },
  {
   "cell_type": "markdown",
   "metadata": {},
   "source": [
    "Une première solution serait tout simplement de faire tourner l'algorithme PageRank basique (sans variations) et ensuite de recommander les articles ayant le plus haut score (donc les plus populaires). Nous avons choisis $d = 0.85$ car c'est une valeur courante pour cet algorithme."
   ]
  },
  {
   "cell_type": "code",
   "execution_count": 3,
   "metadata": {},
   "outputs": [
    {
     "name": "stdout",
     "output_type": "stream",
     "text": [
      "[1] \"Nombre d'itérations : \"\n",
      "[1] 21\n"
     ]
    },
    {
     "data": {
      "text/html": [
       "<ol class=list-inline>\n",
       "\t<li>'311874'</li>\n",
       "\t<li>'19422 '</li>\n",
       "\t<li>'17094 '</li>\n",
       "\t<li>'70445 '</li>\n",
       "\t<li>'422908'</li>\n",
       "\t<li>'28887 '</li>\n",
       "\t<li>'245669'</li>\n",
       "\t<li>'206738'</li>\n",
       "\t<li>'225173'</li>\n",
       "\t<li>'155792'</li>\n",
       "</ol>\n"
      ],
      "text/latex": [
       "\\begin{enumerate*}\n",
       "\\item '311874'\n",
       "\\item '19422 '\n",
       "\\item '17094 '\n",
       "\\item '70445 '\n",
       "\\item '422908'\n",
       "\\item '28887 '\n",
       "\\item '245669'\n",
       "\\item '206738'\n",
       "\\item '225173'\n",
       "\\item '155792'\n",
       "\\end{enumerate*}\n"
      ],
      "text/markdown": [
       "1. '311874'\n",
       "2. '19422 '\n",
       "3. '17094 '\n",
       "4. '70445 '\n",
       "5. '422908'\n",
       "6. '28887 '\n",
       "7. '245669'\n",
       "8. '206738'\n",
       "9. '225173'\n",
       "10. '155792'\n",
       "\n",
       "\n"
      ],
      "text/plain": [
       " [1] \"311874\" \"19422 \" \"17094 \" \"70445 \" \"422908\" \"28887 \" \"245669\" \"206738\"\n",
       " [9] \"225173\" \"155792\""
      ]
     },
     "metadata": {},
     "output_type": "display_data"
    }
   ],
   "source": [
    "PageRank <- function(m,d){\n",
    "  A = as.matrix(m)\n",
    "  n = nrow(m)\n",
    "  R = matrix(1.0,1,n)\n",
    "  s = rowSums(m) + 1\n",
    "  oldR = matrix(0.0,1,n)\n",
    "  i = 0\n",
    "  while (norm(R-oldR) > 0.0001){\n",
    "    oldR = R\n",
    "    R = (1-d)/n + d*(R/s)%*%A\n",
    "    i = i + 1\n",
    "  }\n",
    "  print(\"Nombre d'itérations : \")\n",
    "  print(i)\n",
    "  return(R)\n",
    "}\n",
    "\n",
    "GlobalRank <- PageRank(m,0.85)\n",
    "Recommendations1 <- rownames(m)[order(GlobalRank, decreasing=TRUE)[1:10]]\n",
    "format(Recommendations1)"
   ]
  },
  {
   "cell_type": "markdown",
   "metadata": {},
   "source": [
    "Mais cette solution ne prend pas en compte le fait que le document numéro '422908' a été lu : cela revient à calculer la\n",
    "probabilité qu’un individu lit un certain article suite à une navigation aléatoire."
   ]
  },
  {
   "cell_type": "markdown",
   "metadata": {},
   "source": [
    "Nous avons donc implémenté un algorithme PageRank personnalisé : \n",
    "\n",
    "Au lieu d'avoir un vecteur PageRank initialisé à 1 pour tous les articles, seul le document lu sera initialisé à 1 tandis que les autres seront à 0. De plus, il n'y a plus de possibilité de _téléportation_ : en effet, le facteur $(1-d)/n$ n'est plus présent lors dans les itérations. À la place, la variable $a \\in [0;1]$ représente la probabilité que l'utilisateur reste sur l'article actuel (il ne navigue pas vers un des autres documents référencés)."
   ]
  },
  {
   "cell_type": "code",
   "execution_count": 4,
   "metadata": {},
   "outputs": [
    {
     "name": "stdout",
     "output_type": "stream",
     "text": [
      "[1] \"Nombre d'itérations : \"\n",
      "[1] 20\n"
     ]
    },
    {
     "data": {
      "text/html": [
       "<ol class=list-inline>\n",
       "\t<li>'70445 '</li>\n",
       "\t<li>'17094 '</li>\n",
       "\t<li>'155792'</li>\n",
       "\t<li>'64835 '</li>\n",
       "\t<li>'315693'</li>\n",
       "\t<li>'396568'</li>\n",
       "\t<li>'110303'</li>\n",
       "\t<li>'149820'</li>\n",
       "\t<li>'522428'</li>\n",
       "\t<li>'389559'</li>\n",
       "</ol>\n"
      ],
      "text/latex": [
       "\\begin{enumerate*}\n",
       "\\item '70445 '\n",
       "\\item '17094 '\n",
       "\\item '155792'\n",
       "\\item '64835 '\n",
       "\\item '315693'\n",
       "\\item '396568'\n",
       "\\item '110303'\n",
       "\\item '149820'\n",
       "\\item '522428'\n",
       "\\item '389559'\n",
       "\\end{enumerate*}\n"
      ],
      "text/markdown": [
       "1. '70445 '\n",
       "2. '17094 '\n",
       "3. '155792'\n",
       "4. '64835 '\n",
       "5. '315693'\n",
       "6. '396568'\n",
       "7. '110303'\n",
       "8. '149820'\n",
       "9. '522428'\n",
       "10. '389559'\n",
       "\n",
       "\n"
      ],
      "text/plain": [
       " [1] \"70445 \" \"17094 \" \"155792\" \"64835 \" \"315693\" \"396568\" \"110303\" \"149820\"\n",
       " [9] \"522428\" \"389559\""
      ]
     },
     "metadata": {},
     "output_type": "display_data"
    }
   ],
   "source": [
    "personnalize_PageRank <- function(m,a,document_number,number_of_recommendations){\n",
    "  index = grep(document_number, rownames(m), ignore.case=T)\n",
    "  A = as.matrix(m)\n",
    "  n = nrow(m)\n",
    "  R = matrix(0.0,1,n)\n",
    "  R[1,index] = 1.0\n",
    "  s = t(rowSums(m) + 1)\n",
    "  oldR = matrix(0.0,1,n)\n",
    "  i = 0\n",
    "  while (norm(R-oldR) > 0.0001){\n",
    "    oldR = R\n",
    "    R = a * R + (1-a)*(R/s)%*%A\n",
    "    i = i + 1\n",
    "  }\n",
    "  print(\"Nombre d'itérations : \")\n",
    "  print(i)\n",
    "  recommendations <- order(R, decreasing=TRUE)[1:number_of_recommendations]\n",
    "  return(rownames(m)[recommendations])\n",
    "}\n",
    "\n",
    "Recommendations2 <- personnalize_PageRank(m,0.15,422908,10)\n",
    "format(Recommendations2)"
   ]
  },
  {
   "cell_type": "markdown",
   "metadata": {},
   "source": [
    "Une troisième possibilité est de mêler la popularité globale des documents (calculées par le PageRank classique) avec la valeur de similarité entre le document lu et les autres. Pour se faire, la valeur finale de recommandation d'un document $A$ vaut $ \\alpha * PageRank(A) + (1-\\alpha) * sim(422908,A)$. Étant donné qu'en moyenne la valeur de similarité était 200 fois plus élevée que celle du PageRank, nous avons choisis $\\alpha = 0.995$ afin d'avoir un apport égal entre la popularité et la similarité."
   ]
  },
  {
   "cell_type": "code",
   "execution_count": 5,
   "metadata": {},
   "outputs": [
    {
     "name": "stdout",
     "output_type": "stream",
     "text": [
      "[1] \"Nombre d'itérations : \"\n",
      "[1] 21\n"
     ]
    },
    {
     "data": {
      "text/html": [
       "<ol class=list-inline>\n",
       "\t<li>'311874'</li>\n",
       "\t<li>'422908'</li>\n",
       "\t<li>'19422 '</li>\n",
       "\t<li>'70445 '</li>\n",
       "\t<li>'17094 '</li>\n",
       "\t<li>'155792'</li>\n",
       "\t<li>'96767 '</li>\n",
       "\t<li>'225173'</li>\n",
       "\t<li>'149673'</li>\n",
       "\t<li>'466838'</li>\n",
       "</ol>\n"
      ],
      "text/latex": [
       "\\begin{enumerate*}\n",
       "\\item '311874'\n",
       "\\item '422908'\n",
       "\\item '19422 '\n",
       "\\item '70445 '\n",
       "\\item '17094 '\n",
       "\\item '155792'\n",
       "\\item '96767 '\n",
       "\\item '225173'\n",
       "\\item '149673'\n",
       "\\item '466838'\n",
       "\\end{enumerate*}\n"
      ],
      "text/markdown": [
       "1. '311874'\n",
       "2. '422908'\n",
       "3. '19422 '\n",
       "4. '70445 '\n",
       "5. '17094 '\n",
       "6. '155792'\n",
       "7. '96767 '\n",
       "8. '225173'\n",
       "9. '149673'\n",
       "10. '466838'\n",
       "\n",
       "\n"
      ],
      "text/plain": [
       " [1] \"311874\" \"422908\" \"19422 \" \"70445 \" \"17094 \" \"155792\" \"96767 \" \"225173\"\n",
       " [9] \"149673\" \"466838\""
      ]
     },
     "metadata": {},
     "output_type": "display_data"
    }
   ],
   "source": [
    "similarity_PageRank <- function(m,d,alpha,document_number,number_of_recommendations){\n",
    "  R <- PageRank(m,d)\n",
    "  index <- grep(document_number, rownames(m), ignore.case=T)\n",
    "  M <- as.matrix(m)\n",
    "  sim <- cosinus.vm(M[index,],t(M))\n",
    "  sim[is.na(sim)] <- 0.0\n",
    "  result <- alpha * R + (1-alpha) * sim\n",
    "  recommendations <- order(result, decreasing=TRUE)[1:number_of_recommendations]\n",
    "  return(rownames(m)[recommendations])\n",
    "}\n",
    "\n",
    "Recommendations3 <- similarity_PageRank(m,0.85,0.995,422908,10)\n",
    "format(Recommendations3)"
   ]
  },
  {
   "cell_type": "markdown",
   "metadata": {},
   "source": [
    "Finalement, nous avons réutiliser ces 3 méthodes mais avec une matrice d'adjacence modifiée : comme conseillé, nous avons étendu l'ensemble des références à celui des références de références via la fonction ci-dessous : "
   ]
  },
  {
   "cell_type": "code",
   "execution_count": 6,
   "metadata": {},
   "outputs": [],
   "source": [
    "Extend_references <- function(m){\n",
    "  M <- as.matrix(m)\n",
    "  newM <- M + M%*%M\n",
    "  newM[newM!=0] <- 1.0\n",
    "  return(newM)\n",
    "}\n",
    "\n",
    "\n",
    "bigM <- Extend_references(m)"
   ]
  },
  {
   "cell_type": "markdown",
   "metadata": {},
   "source": [
    "Pour uniquement le Page Rank:"
   ]
  },
  {
   "cell_type": "code",
   "execution_count": 7,
   "metadata": {},
   "outputs": [
    {
     "name": "stdout",
     "output_type": "stream",
     "text": [
      "[1] \"Nombre d'itérations : \"\n",
      "[1] 23\n"
     ]
    },
    {
     "data": {
      "text/html": [
       "<ol class=list-inline>\n",
       "\t<li>'311874'</li>\n",
       "\t<li>'19422 '</li>\n",
       "\t<li>'225173'</li>\n",
       "\t<li>'206738'</li>\n",
       "\t<li>'396568'</li>\n",
       "\t<li>'70445 '</li>\n",
       "\t<li>'61863 '</li>\n",
       "\t<li>'17094 '</li>\n",
       "\t<li>'155792'</li>\n",
       "\t<li>'64835 '</li>\n",
       "</ol>\n"
      ],
      "text/latex": [
       "\\begin{enumerate*}\n",
       "\\item '311874'\n",
       "\\item '19422 '\n",
       "\\item '225173'\n",
       "\\item '206738'\n",
       "\\item '396568'\n",
       "\\item '70445 '\n",
       "\\item '61863 '\n",
       "\\item '17094 '\n",
       "\\item '155792'\n",
       "\\item '64835 '\n",
       "\\end{enumerate*}\n"
      ],
      "text/markdown": [
       "1. '311874'\n",
       "2. '19422 '\n",
       "3. '225173'\n",
       "4. '206738'\n",
       "5. '396568'\n",
       "6. '70445 '\n",
       "7. '61863 '\n",
       "8. '17094 '\n",
       "9. '155792'\n",
       "10. '64835 '\n",
       "\n",
       "\n"
      ],
      "text/plain": [
       " [1] \"311874\" \"19422 \" \"225173\" \"206738\" \"396568\" \"70445 \" \"61863 \" \"17094 \"\n",
       " [9] \"155792\" \"64835 \""
      ]
     },
     "metadata": {},
     "output_type": "display_data"
    }
   ],
   "source": [
    "BigGlobalRank <- PageRank(bigM,0.85)\n",
    "Recommendations4 <- rownames(bigM)[order(BigGlobalRank, decreasing=TRUE)[1:10]]\n",
    "format(Recommendations4)"
   ]
  },
  {
   "cell_type": "markdown",
   "metadata": {},
   "source": [
    "Pour le Page Rank personalisé:"
   ]
  },
  {
   "cell_type": "code",
   "execution_count": 8,
   "metadata": {},
   "outputs": [
    {
     "name": "stdout",
     "output_type": "stream",
     "text": [
      "[1] \"Nombre d'itérations : \"\n",
      "[1] 80\n"
     ]
    },
    {
     "data": {
      "text/html": [
       "<ol class=list-inline>\n",
       "\t<li>'396568'</li>\n",
       "\t<li>'70445 '</li>\n",
       "\t<li>'17094 '</li>\n",
       "\t<li>'155792'</li>\n",
       "\t<li>'315693'</li>\n",
       "\t<li>'64835 '</li>\n",
       "\t<li>'149820'</li>\n",
       "\t<li>'389559'</li>\n",
       "\t<li>'110303'</li>\n",
       "\t<li>'548620'</li>\n",
       "</ol>\n"
      ],
      "text/latex": [
       "\\begin{enumerate*}\n",
       "\\item '396568'\n",
       "\\item '70445 '\n",
       "\\item '17094 '\n",
       "\\item '155792'\n",
       "\\item '315693'\n",
       "\\item '64835 '\n",
       "\\item '149820'\n",
       "\\item '389559'\n",
       "\\item '110303'\n",
       "\\item '548620'\n",
       "\\end{enumerate*}\n"
      ],
      "text/markdown": [
       "1. '396568'\n",
       "2. '70445 '\n",
       "3. '17094 '\n",
       "4. '155792'\n",
       "5. '315693'\n",
       "6. '64835 '\n",
       "7. '149820'\n",
       "8. '389559'\n",
       "9. '110303'\n",
       "10. '548620'\n",
       "\n",
       "\n"
      ],
      "text/plain": [
       " [1] \"396568\" \"70445 \" \"17094 \" \"155792\" \"315693\" \"64835 \" \"149820\" \"389559\"\n",
       " [9] \"110303\" \"548620\""
      ]
     },
     "metadata": {},
     "output_type": "display_data"
    }
   ],
   "source": [
    "Recommendations5 <- personnalize_PageRank(bigM,0.85,422908,10)\n",
    "format(Recommendations5)"
   ]
  },
  {
   "cell_type": "markdown",
   "metadata": {},
   "source": [
    "Pour le Page Rank hybride:"
   ]
  },
  {
   "cell_type": "code",
   "execution_count": 9,
   "metadata": {},
   "outputs": [
    {
     "name": "stdout",
     "output_type": "stream",
     "text": [
      "[1] \"Nombre d'itérations : \"\n",
      "[1] 23\n"
     ]
    },
    {
     "data": {
      "text/html": [
       "<ol class=list-inline>\n",
       "\t<li>'311874'</li>\n",
       "\t<li>'422908'</li>\n",
       "\t<li>'64835 '</li>\n",
       "\t<li>'17094 '</li>\n",
       "\t<li>'19422 '</li>\n",
       "\t<li>'70445 '</li>\n",
       "\t<li>'96767 '</li>\n",
       "\t<li>'131548'</li>\n",
       "\t<li>'497542'</li>\n",
       "\t<li>'155792'</li>\n",
       "</ol>\n"
      ],
      "text/latex": [
       "\\begin{enumerate*}\n",
       "\\item '311874'\n",
       "\\item '422908'\n",
       "\\item '64835 '\n",
       "\\item '17094 '\n",
       "\\item '19422 '\n",
       "\\item '70445 '\n",
       "\\item '96767 '\n",
       "\\item '131548'\n",
       "\\item '497542'\n",
       "\\item '155792'\n",
       "\\end{enumerate*}\n"
      ],
      "text/markdown": [
       "1. '311874'\n",
       "2. '422908'\n",
       "3. '64835 '\n",
       "4. '17094 '\n",
       "5. '19422 '\n",
       "6. '70445 '\n",
       "7. '96767 '\n",
       "8. '131548'\n",
       "9. '497542'\n",
       "10. '155792'\n",
       "\n",
       "\n"
      ],
      "text/plain": [
       " [1] \"311874\" \"422908\" \"64835 \" \"17094 \" \"19422 \" \"70445 \" \"96767 \" \"131548\"\n",
       " [9] \"497542\" \"155792\""
      ]
     },
     "metadata": {},
     "output_type": "display_data"
    }
   ],
   "source": [
    "Recommendations6 <- similarity_PageRank(bigM,0.85,0.995,422908,10)\n",
    "format(Recommendations6)"
   ]
  },
  {
   "cell_type": "markdown",
   "metadata": {},
   "source": [
    "## 2) Comparez les résultats obtenus avec une approche basée sur la similarité des articles dans un espace vectoriel, à l'instar du calcul de similarité de l'approche item-item. La mesure de la similarité et la façon de l'utiliser pour estimer la pertinence d'articles similaires est laissé à votre discrétion."
   ]
  },
  {
   "cell_type": "markdown",
   "metadata": {},
   "source": [
    "On sélectionne l'index de l'article 422908.\n",
    "On calcule la distance consinus du vecteur de l'article et de tous les autres articles.\n",
    "Les articles les plus proches de l'article 422908 seront considéré comme les articles à recommander."
   ]
  },
  {
   "cell_type": "code",
   "execution_count": 10,
   "metadata": {},
   "outputs": [
    {
     "data": {
      "text/html": [
       "<table>\n",
       "<caption>A data.frame: 5 × 3</caption>\n",
       "<thead>\n",
       "\t<tr><th scope=col>Cos</th><th scope=col>Article</th><th scope=col>Index</th></tr>\n",
       "\t<tr><th scope=col>&lt;dbl&gt;</th><th scope=col>&lt;fct&gt;</th><th scope=col>&lt;int&gt;</th></tr>\n",
       "</thead>\n",
       "<tbody>\n",
       "\t<tr><td>1.0000000</td><td>422908</td><td> 747</td></tr>\n",
       "\t<tr><td>0.5212860</td><td>96767 </td><td>1081</td></tr>\n",
       "\t<tr><td>0.4445542</td><td>496938</td><td> 858</td></tr>\n",
       "\t<tr><td>0.3680374</td><td>425638</td><td> 755</td></tr>\n",
       "\t<tr><td>0.3626593</td><td>522428</td><td> 889</td></tr>\n",
       "</tbody>\n",
       "</table>\n"
      ],
      "text/latex": [
       "A data.frame: 5 × 3\n",
       "\\begin{tabular}{r|lll}\n",
       " Cos & Article & Index\\\\\n",
       " <dbl> & <fct> & <int>\\\\\n",
       "\\hline\n",
       "\t 1.0000000 & 422908 &  747\\\\\n",
       "\t 0.5212860 & 96767  & 1081\\\\\n",
       "\t 0.4445542 & 496938 &  858\\\\\n",
       "\t 0.3680374 & 425638 &  755\\\\\n",
       "\t 0.3626593 & 522428 &  889\\\\\n",
       "\\end{tabular}\n"
      ],
      "text/markdown": [
       "\n",
       "A data.frame: 5 × 3\n",
       "\n",
       "| Cos &lt;dbl&gt; | Article &lt;fct&gt; | Index &lt;int&gt; |\n",
       "|---|---|---|\n",
       "| 1.0000000 | 422908 |  747 |\n",
       "| 0.5212860 | 96767  | 1081 |\n",
       "| 0.4445542 | 496938 |  858 |\n",
       "| 0.3680374 | 425638 |  755 |\n",
       "| 0.3626593 | 522428 |  889 |\n",
       "\n"
      ],
      "text/plain": [
       "  Cos       Article Index\n",
       "1 1.0000000 422908   747 \n",
       "2 0.5212860 96767   1081 \n",
       "3 0.4445542 496938   858 \n",
       "4 0.3680374 425638   755 \n",
       "5 0.3626593 522428   889 "
      ]
     },
     "metadata": {},
     "output_type": "display_data"
    }
   ],
   "source": [
    "i <- grep('422908', as.character(rownames(m)), ignore.case=T)\n",
    "\n",
    "sim.cos <- as.vector(cosinus.vm(m[,i], m))\n",
    "i.sim.cos <- max.nindex(sim.cos)\n",
    "sim.cos.sorted <- data.frame(Cos=sim.cos[i.sim.cos], Article=as.character(rownames(m)[i.sim.cos]), Index=i.sim.cos)\n",
    "head(sim.cos.sorted)"
   ]
  },
  {
   "cell_type": "markdown",
   "metadata": {},
   "source": [
    "## 3) Utilisez une validation croisée pour évaluer la performance de l'approche item-item."
   ]
  },
  {
   "cell_type": "markdown",
   "metadata": {},
   "source": [
    "On va utiliser une validation croisée de type leave-one-out. Il s'agit de la version extrème de la K-fold cross validation, où chaque vecteur sera considérer comme un ensemble de test comportant un unique élement. Nous allons donc essayer de prédire chaque vecteur de la matrice.\n",
    "\n",
    "La première chose à faire est de récupérer chaque distance entre les articles. On se base sur la distance cosinus pour cela."
   ]
  },
  {
   "cell_type": "code",
   "execution_count": 11,
   "metadata": {},
   "outputs": [
    {
     "data": {
      "text/html": [
       "<table>\n",
       "<caption>A matrix: 6 × 1090 of type dbl</caption>\n",
       "<thead>\n",
       "\t<tr><th></th><th scope=col>X100299</th><th scope=col>X100967</th><th scope=col>X10151</th><th scope=col>X101705</th><th scope=col>X101863</th><th scope=col>X102458</th><th scope=col>X102886</th><th scope=col>X102966</th><th scope=col>X10302</th><th scope=col>X103700</th><th scope=col>⋯</th><th scope=col>X96767</th><th scope=col>X97060</th><th scope=col>X97150</th><th scope=col>X9721</th><th scope=col>X97410</th><th scope=col>X97863</th><th scope=col>X98185</th><th scope=col>X99113</th><th scope=col>X9947</th><th scope=col>X9993</th></tr>\n",
       "</thead>\n",
       "<tbody>\n",
       "\t<tr><th scope=row>X100299</th><td>NaN</td><td>NaN</td><td>NaN</td><td>NaN</td><td>NaN</td><td>NaN</td><td>NaN</td><td>NaN</td><td>NaN</td><td>NaN</td><td>⋯</td><td>      NaN</td><td>NaN</td><td>NaN</td><td>NaN</td><td>NaN</td><td>NaN</td><td>NaN</td><td>NaN</td><td>NaN</td><td>NaN</td></tr>\n",
       "\t<tr><th scope=row>X100967</th><td>NaN</td><td>  1</td><td>  0</td><td>NaN</td><td>  0</td><td>NaN</td><td>  0</td><td>NaN</td><td>  0</td><td>  0</td><td>⋯</td><td>0.0000000</td><td>  0</td><td>NaN</td><td>  0</td><td>  0</td><td>NaN</td><td>  0</td><td>NaN</td><td>  0</td><td>  0</td></tr>\n",
       "\t<tr><th scope=row>X10151</th><td>NaN</td><td>  0</td><td>  1</td><td>NaN</td><td>  0</td><td>NaN</td><td>  0</td><td>NaN</td><td>  0</td><td>  0</td><td>⋯</td><td>0.0000000</td><td>  0</td><td>NaN</td><td>  0</td><td>  0</td><td>NaN</td><td>  0</td><td>NaN</td><td>  0</td><td>  0</td></tr>\n",
       "\t<tr><th scope=row>X101705</th><td>NaN</td><td>NaN</td><td>NaN</td><td>NaN</td><td>NaN</td><td>NaN</td><td>NaN</td><td>NaN</td><td>NaN</td><td>NaN</td><td>⋯</td><td>      NaN</td><td>NaN</td><td>NaN</td><td>NaN</td><td>NaN</td><td>NaN</td><td>NaN</td><td>NaN</td><td>NaN</td><td>NaN</td></tr>\n",
       "\t<tr><th scope=row>X101863</th><td>NaN</td><td>  0</td><td>  0</td><td>NaN</td><td>  1</td><td>NaN</td><td>  0</td><td>NaN</td><td>  0</td><td>  0</td><td>⋯</td><td>0.2357023</td><td>  0</td><td>NaN</td><td>  0</td><td>  0</td><td>NaN</td><td>  0</td><td>NaN</td><td>  0</td><td>  0</td></tr>\n",
       "\t<tr><th scope=row>X102458</th><td>NaN</td><td>NaN</td><td>NaN</td><td>NaN</td><td>NaN</td><td>NaN</td><td>NaN</td><td>NaN</td><td>NaN</td><td>NaN</td><td>⋯</td><td>      NaN</td><td>NaN</td><td>NaN</td><td>NaN</td><td>NaN</td><td>NaN</td><td>NaN</td><td>NaN</td><td>NaN</td><td>NaN</td></tr>\n",
       "</tbody>\n",
       "</table>\n"
      ],
      "text/latex": [
       "A matrix: 6 × 1090 of type dbl\n",
       "\\begin{tabular}{r|llllllllllllllllllllllllllllllllllllllllllllllllllllllllllllllllllllllllllllllllllllllllllllllllllllllllllllllllllllllllllllllllllllllllllllllllllllllllllllllllllllllllllllllllllllllllllllllllllllllllllllllllllllllllllllllllllllllllllllllllllllllllllllllllllllllllllllllllllllllllllllllllllllllllllllllllllllllllllllllllllllllllllllllllllllllllllllllllllllllllllllllllllllllllllllllllllllllllllllllllllllllllllllllllllllllllllllllllllllllllllllllllllllllllllllllllllllllllllllllllllllllllllllllllllllllllllllllllllllllllllllllllllllllllllllllllllllllllllllllllllllllllllllllllllllllllllllllllllllllllllllllllllllllllllllllllllllllllllllllllllllllllllllllllllllllllllllllllllllllllllllllllllllllllllllllllllllllllllllllllllllllllllllllllllllllllllllllllllllllllllllllllllllllllllllllllllllllllllllllllllllllllllllllllllllllllllllllllllllllllllllllllllllllllllllllllllllllllllllllllllllllllllllllllllllllllllllllllllllllllllllllllllllllllllllllllllllllllllllllllllllllllllllllllllllllllllllllllllllllllllllllllllllllllllllllllllllllllllllllllllllllllllllllllllllllllllllllllllllllllllllllllll}\n",
       "  & X100299 & X100967 & X10151 & X101705 & X101863 & X102458 & X102886 & X102966 & X10302 & X103700 & X103914 & X10394 & X104047 & X104814 & X104824 & X105046 & X105095 & X105173 & X105199 & X105376 & X10563 & X105655 & X105780 & X105842 & X105962 & X106034 & X106259 & X108055 & X108101 & X108173 & X108202 & X108813 & X108844 & X10900 & X109288 & X109578 & X109733 & X109872 & X109902 & X110159 & X110303 & X11038 & X11039 & X110648 & X110731 & X110951 & X111418 & X112426 & X113069 & X113469 & X113712 & X113889 & X114095 & X114285 & X114690 & X116523 & X116858 & X117083 & X117522 & X117609 & X117810 & X118050 & X118221 & X118517 & X1186 & X118612 & X118823 & X118905 & X118993 & X119041 & X11980 & X119886 & X119933 & X120053 & X120172 & X120221 & X120273 & X120860 & X120884 & X121770 & X121831 & X12199 & X122014 & X122552 & X122701 & X122844 & X122883 & X12335 & X123606 & X123736 & X12398 & X124 & X124021 & X124043 & X124562 & X124735 & X125089 & X125643 & X126336 & X126858 & X127138 & X127612 & X127834 & X127847 & X128379 & X128963 & X129196 & X129309 & X130238 & X130506 & X130901 & X131044 & X131548 & X133447 & X134177 & X134468 & X134503 & X1347 & X134881 & X134982 & X135290 & X135666 & X135793 & X135897 & X136771 & X136975 & X137324 & X137611 & X137673 & X137863 & X138276 & X138453 & X138779 & X138988 & X139134 & X139321 & X139852 & X140292 & X141506 & X141812 & X142026 & X142248 & X142710 & X143383 & X143562 & X144409 & X14452 & X144751 & X145069 & X145363 & X145483 & X145612 & X14566 & X145703 & X145724 & X145880 & X145920 & X14606 & X146328 & X146468 & X146952 & X147460 & X147542 & X147583 & X148287 & X148879 & X149505 & X149673 & X149820 & X150450 & X150502 & X150689 & X151235 & X15141 & X152632 & X152694 & X15287 & X15321 & X153638 & X154735 & X155019 & X155080 & X155235 & X155792 & X156791 & X157215 & X15740 & X157742 & X157769 & X158402 & X159038 & X161139 & X16117 & X162183 & X162240 & X16242 & X162688 & X16295 & X163118 & X163353 & X163604 & X163663 & X164141 & X164171 & X164217 & X164433 & X164592 & X164633 & X164643 & X164788 & X164935 & X165221 & X165617 & X166209 & X16621 & X167226 & X167231 & X167247 & X167515 & X167686 & X167774 & X169083 & X169124 & X169223 & X169288 & X169748 & X170066 & X170200 & X170453 & X170577 & X170700 & X17094 & X171529 & X171813 & X172836 & X173238 & X173886 & X17507 & X175303 & X175470 & X175563 & X17574 & X175790 & X176581 & X176773 & X177173 & X17769 & X17824 & X178958 & X179072 & X180149 & X180603 & X18083 & X180886 & X18140 & X181463 & X18222 & X182371 & X182548 & X182742 & X182869 & X184297 & X184608 & X18496 & X184966 & X185191 & X185918 & X185961 & X18642 & X186752 & X187249 & X187254 & X187439 & X187838 & X187991 & X188218 & X18831 & X188568 & X18858 & X188852 & X189245 & X189392 & X189479 & X189845 & X191079 & X19167 & X192210 & X19249 & X192588 & X192769 & X193029 & X193435 & X193692 & X193723 & X19422 & X1948 & X195019 & X19508 & X195148 & X195674 & X196299 & X196593 & X200890 & X201700 & X20329 & X20336 & X20430 & X204508 & X20469 & X205541 & X206141 & X206738 & X206892 & X20730 & X208243 & X20858 & X208724 & X20970 & X210287 & X210342 & X2104 & X210594 & X210810 & X2111 & X212034 & X212842 & X21290 & X213792 & X214041 & X214148 & X214254 & X215202 & X21583 & X217271 & X217381 & X21755 & X21854 & X218891 & X219063 & X219179 & X219258 & X219404 & X219735 & X220337 & X220463 & X22178 & X222245 & X222394 & X22241 & X222571 & X223091 & X22312 & X223320 & X223431 & X223672 & X223844 & X22400 & X22421 & X224357 & X224696 & X22491 & X225018 & X225173 & X225251 & X225404 & X225734 & X225937 & X226359 & X22638 & X226801 & X226964 & X227057 & X227285 & X22811 & X22904 & X229617 & X229731 & X22995 & X230168 & X230245 & X230259 & X23056 & X230897 & X231699 & X231811 & X232059 & X232100 & X232424 & X232568 & X233078 & X234295 & X236799 & X237435 & X23766 & X23817 & X239234 & X239492 & X239508 & X23976 & X23991 & X241538 & X241722 & X242528 & X243684 & X243761 & X24458 & X245545 & X245669 & X246559 & X247088 & X247211 & X247910 & X248384 & X248596 & X248598 & X24875 & X248906 & X248936 & X2490 & X249024 & X249127 & X250620 & X251082 & X251381 & X251802 & X252203 & X252435 & X25284 & X25286 & X25394 & X254251 & X254456 & X254899 & X255465 & X255505 & X256536 & X256682 & X25678 & X25887 & X258875 & X25937 & X259425 & X259812 & X259823 & X259899 & X259947 & X260059 & X26170 & X262766 & X263752 & X26529 & X265502 & X266096 & X268967 & X26913 & X269945 & X270114 & X270369 & X270541 & X270992 & X271339 & X272596 & X27306 & X27361 & X274275 & X274411 & X274744 & X275211 & X275844 & X276443 & X276499 & X27670 & X27759 & X278432 & X278565 & X278853 & X279207 & X27921 & X280665 & X281038 & X281075 & X281128 & X281158 & X281159 & X282066 & X28289 & X28323 & X28329 & X283680 & X284612 & X285106 & X286414 & X287290 & X28887 & X289035 & X289188 & X289801 & X290620 & X291026 & X291165 & X291177 & X292009 & X292288 & X292767 & X293435 & X293625 & X293938 & X294409 & X295574 & X295968 & X296098 & X296226 & X296425 & X296508 & X296670 & X297317 & X297323 & X297641 & X29783 & X298007 & X298240 & X299020 & X300119 & X301565 & X301948 & X302003 & X302347 & X302704 & X303368 & X303810 & X304747 & X306286 & X306645 & X309293 & X309547 & X309666 & X309992 & X31018 & X310383 & X31084 & X311344 & X311445 & X311541 & X311623 & X31170 & X311747 & X311874 & X311984 & X312156 & X313021 & X313186 & X313796 & X314234 & X314502 & X31494 & X3156 & X315693 & X315867 & X316694 & X3170 & X3175 & X3177 & X318548 & X319390 & X32081 & X322240 & X322454 & X32269 & X322864 & X32294 & X323613 & X324937 & X325158 & X325396 & X325612 & X32610 & X326935 & X327917 & X32808 & X328188 & X328445 & X328511 & X328755 & X329196 & X329665 & X330460 & X331393 & X331854 & X33208 & X332114 & X33212 & X332670 & X332791 & X335190 & X335552 & X335678 & X335701 & X335812 & X336038 & X336461 & X336989 & X337055 & X337653 & X33803 & X33917 & X339304 & X340126 & X340170 & X340531 & X340927 & X341356 & X34249 & X34251 & X342910 & X343026 & X34309 & X343214 & X343597 & X344181 & X344666 & X345161 & X345650 & X345830 & X34792 & X348764 & X349836 & X350038 & X35074 & X350770 & X350950 & X35117 & X35128 & X35129 & X352182 & X352898 & X352956 & X353044 & X35468 & X355768 & X356801 & X357898 & X358755 & X358813 & X358828 & X360089 & X361140 & X361801 & X361896 & X362182 & X362459 & X362578 & X362650 & X362688 & X363138 & X364091 & X364138 & X364140 & X364218 & X364303 & X364543 & X364721 & X364725 & X3651 & X365109 & X365527 & X365839 & X366210 & X366858 & X367658 & X368281 & X368718 & X36960 & X37046 & X371317 & X371548 & X372221 & X372808 & X373307 & X374683 & X375002 & X375054 & X375670 & X376086 & X37710 & X377337 & X3776 & X378161 & X378200 & X378812 & X379396 & X37958 & X380059 & X38085 & X380922 & X38113 & X38122 & X382179 & X384027 & X384037 & X384587 & X38499 & X385215 & X385987 & X386081 & X386741 & X386841 & X387834 & X389383 & X389521 & X389559 & X389869 & X390163 & X390309 & X390637 & X391828 & X392298 & X392541 & X393734 & X394586 & X394952 & X3950 & X395364 & X396568 & X397021 & X397185 & X399339 & X40009 & X40014 & X40057 & X402497 & X403583 & X40391 & X404934 & X405188 & X408033 & X410249 & X41101 & X411542 & X41366 & X413665 & X41420 & X416093 & X41722 & X41832 & X41878 & X419407 & X422908 & X423702 & X42422 & X42445 & X424616 & X424782 & X425122 & X42528 & X425638 & X425810 & X425983 & X426325 & X427509 & X42779 & X42942 & X429457 & X429561 & X430308 & X431581 & X431696 & X434053 & X43727 & X437334 & X437429 & X437434 & X437951 & X43984 & X441895 & X442323 & X445265 & X44569 & X446046 & X448345 & X448406 & X449353 & X449470 & X450449 & X45071 & X45228 & X4526 & X45318 & X453690 & X453813 & X453924 & X45448 & X455070 & X455837 & X455847 & X456820 & X45724 & X45751 & X45799 & X458474 & X459193 & X459683 & X460258 & X460273 & X463585 & X463810 & X464834 & X46600 & X46663 & X466838 & X467755 & X468667 & X468911 & X46908 & X46959 & X470971 & X471166 & X47148 & X47387 & X475473 & X475716 & X476376 & X47726 & X47880 & X479277 & X479857 & X48013 & X48067 & X48128 & X483672 & X484296 & X484335 & X484551 & X484597 & X484773 & X48543 & X485823 & X48598 & X486115 & X486490 & X486680 & X486876 & X487117 & X48747 & X48796 & X488607 & X4897 & X49066 & X4913 & X492136 & X493125 & X493240 & X49370 & X49386 & X49449 & X49474 & X495190 & X496 & X496938 & X497542 & X499073 & X499366 & X499426 & X49996 & X50000 & X500980 & X50214 & X502960 & X503616 & X50371 & X504401 & X50504 & X50568 & X506043 & X50929 & X509950 & X5101 & X511026 & X51180 & X512685 & X51278 & X513018 & X514768 & X517603 & X51811 & X51827 & X51999 & X520688 & X520768 & X522428 & X52413 & X52476 & X52498 & X52543 & X52561 & X526502 & X5266 & X527057 & X52866 & X529251 & X53287 & X53355 & X534200 & X53428 & X535205 & X53595 & X535995 & X53632 & X53753 & X538553 & X53910 & X54350 & X543817 & X54455 & X545708 & X5476 & X547939 & X548310 & X548620 & X548670 & X549091 & X54955 & X54985 & X55671 & X55781 & X561317 & X56673 & X56745 & X56874 & X570764 & X573595 & X57841 & X58002 & X58022 & X58346 & X58436 & X58664 & X58716 & X59117 & X59128 & X59994 & X6008 & X60275 & X60394 & X60654 & X61863 & X61983 & X62107 & X62259 & X62412 & X62677 & X62893 & X63210 & X63336 & X63435 & X63437 & X63807 & X63977 & X64263 & X64329 & X64392 & X64835 & X6497 & X65301 & X65602 & X65646 & X65841 & X65852 & X66285 & X66289 & X66291 & X66776 & X66991 & X67042 & X67138 & X67284 & X67682 & X67710 & X67972 & X68452 & X68686 & X6885 & X68906 & X69148 & X70206 & X70445 & X70578 & X70752 & X70908 & X7099 & X71090 & X712 & X72621 & X73134 & X73276 & X74362 & X74382 & X74385 & X74862 & X75234 & X75372 & X75491 & X75785 & X76113 & X7624 & X76418 & X77030 & X77337 & X77560 & X77621 & X78418 & X7844 & X79188 & X79248 & X79269 & X7960 & X80195 & X80348 & X80371 & X8069 & X80978 & X81143 & X81221 & X81619 & X82291 & X8239 & X82447 & X82926 & X83184 & X83263 & X83509 & X8373 & X83730 & X84264 & X84338 & X8434 & X8484 & X85473 & X85578 & X85761 & X85875 & X85884 & X86259 & X86564 & X8668 & X86700 & X86872 & X86928 & X87064 & X87233 & X87265 & X87485 & X8750 & X87538 & X87741 & X88318 & X88938 & X89365 & X89425 & X89713 & X90456 & X91066 & X91436 & X9181 & X92192 & X92245 & X92433 & X92606 & X92901 & X93250 & X93428 & X93456 & X93821 & X94231 & X95136 & X95200 & X95649 & X95737 & X9581 & X95883 & X96539 & X96767 & X97060 & X97150 & X9721 & X97410 & X97863 & X98185 & X99113 & X9947 & X9993\\\\\n",
       "\\hline\n",
       "\tX100299 & NaN & NaN & NaN & NaN & NaN & NaN & NaN & NaN & NaN & NaN & NaN & NaN & NaN & NaN & NaN & NaN & NaN & NaN & NaN & NaN & NaN & NaN & NaN & NaN & NaN & NaN & NaN & NaN & NaN & NaN & NaN & NaN & NaN & NaN & NaN & NaN & NaN & NaN & NaN & NaN & NaN & NaN & NaN & NaN & NaN & NaN & NaN & NaN & NaN & NaN & NaN & NaN & NaN & NaN & NaN & NaN & NaN & NaN &       NaN & NaN & NaN & NaN & NaN & NaN & NaN & NaN & NaN & NaN & NaN & NaN & NaN & NaN & NaN & NaN & NaN & NaN & NaN & NaN & NaN & NaN & NaN & NaN & NaN & NaN & NaN & NaN & NaN & NaN & NaN & NaN & NaN & NaN & NaN & NaN & NaN & NaN & NaN &       NaN & NaN & NaN & NaN & NaN & NaN & NaN & NaN & NaN & NaN & NaN & NaN &       NaN & NaN & NaN & NaN & NaN & NaN & NaN & NaN & NaN & NaN & NaN & NaN & NaN & NaN & NaN & NaN & NaN & NaN & NaN & NaN & NaN & NaN & NaN & NaN & NaN & NaN & NaN & NaN & NaN & NaN & NaN & NaN & NaN & NaN & NaN & NaN & NaN & NaN & NaN & NaN & NaN & NaN & NaN & NaN & NaN & NaN & NaN & NaN & NaN & NaN & NaN & NaN & NaN & NaN & NaN &       NaN & NaN & NaN & NaN & NaN & NaN & NaN & NaN & NaN & NaN & NaN & NaN & NaN &       NaN & NaN & NaN & NaN & NaN & NaN & NaN & NaN & NaN & NaN & NaN & NaN & NaN & NaN & NaN & NaN &       NaN & NaN & NaN & NaN & NaN & NaN & NaN & NaN & NaN & NaN & NaN & NaN & NaN & NaN & NaN & NaN &       NaN & NaN & NaN & NaN & NaN & NaN & NaN & NaN & NaN & NaN & NaN & NaN & NaN & NaN & NaN & NaN & NaN & NaN & NaN & NaN & NaN & NaN & NaN & NaN & NaN & NaN &       NaN & NaN & NaN & NaN & NaN & NaN & NaN &       NaN & NaN & NaN & NaN & NaN & NaN & NaN & NaN & NaN & NaN & NaN & NaN & NaN & NaN & NaN & NaN & NaN & NaN & NaN & NaN & NaN & NaN & NaN & NaN & NaN & NaN & NaN & NaN & NaN & NaN & NaN & NaN & NaN &       NaN & NaN & NaN & NaN & NaN & NaN & NaN & NaN & NaN & NaN & NaN & NaN & NaN & NaN & NaN & NaN & NaN & NaN & NaN &        NaN &       NaN & NaN & NaN & NaN & NaN & NaN & NaN & NaN & NaN & NaN & NaN & NaN & NaN & NaN & NaN & NaN & NaN & NaN & NaN & NaN & NaN & NaN & NaN & NaN & NaN & NaN & NaN &       NaN & NaN & NaN & NaN & NaN & NaN & NaN & NaN & NaN & NaN & NaN & NaN & NaN &       NaN & NaN & NaN & NaN & NaN & NaN & NaN & NaN & NaN & NaN & NaN & NaN & NaN & NaN & NaN & NaN & NaN & NaN & NaN & NaN & NaN & NaN & NaN & NaN & NaN & NaN & NaN & NaN & NaN & NaN & NaN & NaN & NaN & NaN & NaN & NaN & NaN & NaN & NaN & NaN & NaN & NaN & NaN & NaN & NaN & NaN & NaN & NaN & NaN & NaN & NaN & NaN & NaN & NaN & NaN & NaN & NaN & NaN & NaN & NaN &       NaN &       NaN & NaN & NaN & NaN & NaN & NaN & NaN & NaN & NaN & NaN & NaN & NaN & NaN & NaN & NaN & NaN & NaN & NaN & NaN & NaN & NaN & NaN & NaN & NaN & NaN & NaN & NaN & NaN & NaN & NaN & NaN & NaN & NaN & NaN & NaN & NaN & NaN & NaN & NaN & NaN & NaN & NaN & NaN & NaN & NaN & NaN & NaN & NaN & NaN & NaN & NaN & NaN &       NaN & NaN & NaN &       NaN & NaN & NaN & NaN & NaN & NaN & NaN & NaN & NaN & NaN &       NaN & NaN & NaN &       NaN & NaN &       NaN &       NaN & NaN & NaN & NaN & NaN & NaN & NaN & NaN &       NaN & NaN & NaN &       NaN & NaN & NaN & NaN &       NaN & NaN &       NaN & NaN & NaN & NaN & NaN & NaN & NaN & NaN & NaN & NaN & NaN & NaN & NaN & NaN & NaN & NaN & NaN & NaN & NaN & NaN & NaN & NaN & NaN & NaN & NaN & NaN & NaN & NaN & NaN & NaN & NaN & NaN & NaN & NaN & NaN & NaN & NaN & NaN & NaN & NaN & NaN & NaN & NaN & NaN & NaN & NaN & NaN & NaN & NaN & NaN & NaN & NaN & NaN & NaN & NaN & NaN & NaN & NaN & NaN & NaN & NaN &       NaN &        NaN & NaN & NaN & NaN & NaN & NaN & NaN & NaN & NaN & NaN & NaN & NaN & NaN & NaN & NaN & NaN & NaN & NaN & NaN & NaN & NaN & NaN & NaN & NaN & NaN & NaN & NaN & NaN & NaN & NaN & NaN & NaN & NaN & NaN & NaN & NaN &       NaN & NaN & NaN & NaN & NaN & NaN & NaN & NaN & NaN & NaN & NaN & NaN & NaN & NaN & NaN & NaN & NaN & NaN & NaN & NaN & NaN & NaN & NaN & NaN & NaN & NaN & NaN & NaN & NaN & NaN & NaN & NaN & NaN & NaN & NaN & NaN & NaN & NaN & NaN & NaN & NaN & NaN & NaN & NaN & NaN & NaN & NaN &       NaN & NaN & NaN & NaN & NaN &       NaN & NaN & NaN & NaN & NaN & NaN & NaN & NaN & NaN & NaN & NaN & NaN & NaN & NaN & NaN & NaN & NaN & NaN & NaN & NaN & NaN & NaN & NaN & NaN & NaN & NaN & NaN & NaN & NaN & NaN & NaN & NaN & NaN & NaN & NaN & NaN & NaN & NaN & NaN & NaN & NaN & NaN & NaN & NaN & NaN & NaN & NaN & NaN & NaN & NaN & NaN & NaN & NaN & NaN & NaN & NaN & NaN & NaN & NaN & NaN & NaN & NaN & NaN & NaN & NaN & NaN & NaN & NaN & NaN & NaN & NaN & NaN & NaN & NaN & NaN & NaN & NaN & NaN & NaN & NaN & NaN & NaN & NaN & NaN &       NaN & NaN & NaN & NaN & NaN & NaN &       NaN & NaN & NaN & NaN & NaN & NaN & NaN & NaN & NaN & NaN & NaN &       NaN & NaN & NaN & NaN & NaN & NaN & NaN & NaN & NaN & NaN & NaN &      NaN & NaN & NaN & NaN & NaN & NaN & NaN & NaN & NaN & NaN & NaN & NaN & NaN & NaN & NaN & NaN & NaN & NaN & NaN & NaN & NaN & NaN & NaN & NaN & NaN & NaN & NaN & NaN & NaN & NaN & NaN & NaN & NaN & NaN & NaN & NaN & NaN &       NaN &       NaN & NaN & NaN & NaN & NaN & NaN & NaN & NaN & NaN & NaN & NaN & NaN & NaN & NaN & NaN & NaN & NaN & NaN & NaN & NaN & NaN & NaN & NaN & NaN & NaN & NaN & NaN & NaN & NaN & NaN & NaN & NaN & NaN &       NaN & NaN & NaN & NaN & NaN & NaN & NaN & NaN & NaN & NaN & NaN & NaN & NaN & NaN & NaN & NaN & NaN & NaN & NaN &       NaN & NaN & NaN & NaN & NaN & NaN & NaN & NaN & NaN & NaN & NaN &       NaN & NaN & NaN & NaN & NaN & NaN & NaN & NaN & NaN & NaN &       NaN & NaN & NaN & NaN & NaN & NaN & NaN & NaN & NaN & NaN & NaN & NaN & NaN & NaN & NaN & NaN & NaN & NaN & NaN & NaN & NaN & NaN & NaN & NaN & NaN & NaN & NaN & NaN & NaN & NaN & NaN & NaN & NaN & NaN & NaN & NaN & NaN & NaN & NaN & NaN & NaN & NaN & NaN &       NaN & NaN & NaN & NaN & NaN & NaN & NaN & NaN & NaN & NaN &       NaN & NaN & NaN & NaN & NaN &       NaN & NaN & NaN & NaN & NaN & NaN & NaN & NaN & NaN & NaN & NaN & NaN & NaN & NaN & NaN & NaN & NaN & NaN & NaN & NaN & NaN & NaN & NaN & NaN & NaN & NaN & NaN &       NaN & NaN & NaN &       NaN & NaN & NaN & NaN & NaN & NaN & NaN &       NaN & NaN & NaN & NaN & NaN & NaN & NaN & NaN & NaN & NaN & NaN & NaN & NaN & NaN & NaN &       NaN & NaN & NaN & NaN & NaN & NaN & NaN & NaN & NaN & NaN & NaN & NaN & NaN & NaN & NaN & NaN & NaN & NaN & NaN & NaN & NaN & NaN & NaN & NaN & NaN & NaN & NaN & NaN & NaN & NaN & NaN & NaN & NaN & NaN & NaN & NaN & NaN & NaN & NaN & NaN & NaN & NaN & NaN & NaN & NaN & NaN & NaN & NaN & NaN & NaN & NaN & NaN & NaN & NaN & NaN & NaN & NaN & NaN & NaN & NaN & NaN & NaN & NaN & NaN & NaN & NaN & NaN & NaN & NaN & NaN &       NaN & NaN & NaN & NaN & NaN & NaN & NaN & NaN & NaN & NaN & NaN & NaN & NaN & NaN & NaN & NaN & NaN & NaN & NaN & NaN & NaN & NaN & NaN & NaN & NaN & NaN & NaN & NaN & NaN & NaN & NaN &       NaN & NaN & NaN & NaN & NaN & NaN & NaN & NaN & NaN & NaN &       NaN & NaN &       NaN & NaN & NaN & NaN & NaN & NaN & NaN & NaN & NaN & NaN\\\\\n",
       "\tX100967 & NaN &   1 &   0 & NaN &   0 & NaN &   0 & NaN &   0 &   0 &   0 &   0 &   0 &   0 & NaN &   0 & NaN &   0 &   0 &   0 & NaN & NaN & NaN &   0 &   0 &   0 &   0 & NaN & NaN &   0 &   0 &   0 & NaN & NaN &   0 &   0 &   0 &   0 & NaN &   0 &   0 &   0 &   0 & NaN & NaN & NaN &   0 & NaN &   0 & NaN &   0 &   0 &   0 &   0 &   0 &   0 &   0 & NaN & 0.5773503 & NaN & NaN &   0 &   0 &   0 &   0 & NaN & NaN & NaN & NaN &   0 & NaN & NaN &   0 & NaN &   0 & NaN & NaN & NaN &   0 & NaN &   0 &   0 & NaN &   0 &   0 &   0 &   0 & NaN & NaN &   0 & NaN &   0 &   0 & NaN &   0 & NaN & NaN & 0.5773503 &   0 &   0 & NaN &   0 &   0 & NaN & NaN &   0 &   0 & NaN &   0 & 0.0000000 & NaN & NaN &   0 &   0 &   0 &   0 & NaN &   0 & NaN & NaN & NaN &   0 &   0 & NaN &   0 &   0 & NaN & NaN &   0 & NaN & NaN & NaN & NaN &   0 &   0 &   0 &   0 &   0 &   0 & NaN &   0 &   0 &   0 &   0 &   0 &   0 & NaN &   0 & NaN &   0 &   0 &   0 & NaN &   0 & NaN &   0 &   0 &   0 & NaN & NaN &   0 &   0 & NaN &   0 & 0.5773503 &   0 & NaN &   0 &   0 & NaN &   0 &   0 & NaN & NaN & NaN & NaN & NaN & 0.5773503 &   0 & NaN &   0 &   0 &   0 &   0 &   0 &   0 &   0 &   0 &   0 &   0 &   0 &   0 &   0 & 0.4082483 & NaN &   0 & NaN &   0 & NaN & NaN &   0 &   0 & NaN & NaN & NaN &   0 &   0 &   0 &   0 & 0.2357023 &   0 &   0 &   0 &   0 & NaN &   0 & NaN &   0 &   0 & NaN &   0 &   0 & NaN &   0 & NaN & NaN &   0 &   0 & NaN &   0 &   0 &   0 &   0 &   0 &   0 & 0.4082483 & NaN &   0 &   0 & NaN &   0 &   0 & 0.4082483 & NaN &   0 &   0 &   0 & NaN & NaN &   0 & NaN & NaN &   0 &   0 & NaN &   0 &   0 & NaN & NaN &   0 &   0 &   0 &   0 &   0 & NaN &   0 &   0 &   0 &   0 & NaN & NaN &   0 &   0 &   0 &   0 & 0.5773503 &   0 & NaN & NaN &   0 & NaN &   0 & NaN & NaN &   0 & NaN & NaN &   0 &   0 & NaN &   0 &   0 & NaN & NaN & 0.00000000 & 0.5773503 &   0 &   0 &   0 &   0 &   0 & NaN & NaN &   0 & NaN &   0 &   0 &   0 &   0 & NaN &   0 &   0 & NaN & NaN & NaN &   0 &   0 &   0 &   0 &   0 & NaN &   0 & 0.5773503 &   0 & NaN & NaN &   0 &   0 & NaN & NaN & NaN & NaN &   0 &   0 &   0 & 0.4082483 &   0 &   0 & NaN &   0 &   0 &   0 &   0 &   0 &   0 &   0 &   0 & NaN &   0 &   0 &   0 &   0 & NaN &   0 & NaN &   0 & NaN & NaN &   0 & NaN & NaN &   0 &   0 &   0 & NaN &   0 & NaN &   0 &   0 & NaN &   0 &   0 &   0 & NaN & NaN &   0 &   0 &   0 & NaN &   0 & NaN &   0 &   0 &   0 &   0 &   0 & NaN &   0 & NaN & NaN & NaN &   0 &   0 &   0 &   0 & 0.4082483 & 0.5773503 & NaN & NaN & NaN &   0 & NaN & NaN &   0 &   0 & NaN & NaN &   0 & NaN &   0 &   0 &   0 &   0 &   0 &   0 &   0 &   0 & NaN &   0 &   0 &   0 &   0 & NaN &   0 & NaN & NaN &   0 &   0 &   0 &   0 &   0 &   0 & NaN &   0 &   0 &   0 & NaN &   0 &   0 &   0 & NaN &   0 &   0 & NaN & NaN &   0 & NaN &   0 & 0.5163978 & NaN &   0 & 0.6666667 &   0 & NaN & NaN & NaN &   0 & NaN & NaN &   0 & NaN & 0.5773503 &   0 &   0 & 0.5773503 & NaN & 0.5773503 & 0.5773503 & NaN &   0 & NaN &   0 &   0 &   0 &   0 & 0.5773503 &   0 &   0 & 0.5773503 & NaN &   0 &   0 & 0.5773503 &   0 & 0.5773503 & NaN &   0 &   0 & NaN &   0 &   0 & NaN &   0 &   0 &   0 & NaN &   0 & NaN &   0 &   0 & NaN & NaN &   0 & NaN &   0 & NaN & NaN & NaN & NaN &   0 &   0 &   0 & NaN &   0 &   0 &   0 &   0 &   0 &   0 &   0 & NaN & NaN & NaN & NaN & NaN &   0 & NaN &   0 &   0 & NaN &   0 &   0 &   0 &   0 &   0 & NaN &   0 & NaN &   0 &   0 & NaN & NaN & NaN &   0 &   0 & 0.4082483 & 0.04428074 & NaN & NaN &   0 &   0 & NaN & NaN & NaN & NaN &   0 &   0 & NaN & NaN &   0 &   0 &   0 & NaN &   0 &   0 &   0 & NaN &   0 & NaN &   0 & NaN & NaN & NaN & NaN & NaN &   0 & NaN &   0 &   0 & NaN &   0 & NaN & 0.5773503 & NaN &   0 & NaN & NaN & NaN &   0 &   0 & NaN & NaN &   0 &   0 & NaN &   0 & NaN &   0 &   0 & NaN & NaN &   0 & NaN &   0 &   0 & NaN &   0 & NaN & NaN &   0 & NaN &   0 &   0 &   0 & NaN & NaN &   0 &   0 & NaN & NaN &   0 &   0 &   0 &   0 &   0 & NaN & NaN &   0 &   0 & 0.5773503 & NaN &   0 &   0 &   0 & 0.5773503 &   0 &   0 & NaN & NaN &   0 &   0 &   0 & NaN & NaN &   0 & NaN &   0 & NaN &   0 & NaN &   0 & NaN & NaN &   0 &   0 &   0 & NaN &   0 &   0 &   0 &   0 & NaN &   0 & NaN &   0 & NaN &   0 & NaN & NaN &   0 &   0 &   0 & NaN &   0 &   0 &   0 &   0 &   0 &   0 &   0 & NaN &   0 & NaN &   0 &   0 &   0 & NaN &   0 &   0 & NaN &   0 &   0 &   0 &   0 & NaN &   0 & NaN &   0 &   0 &   0 & NaN & NaN & NaN &   0 & NaN &   0 &   0 &   0 &   0 &   0 &   0 & NaN &   0 &   0 &   0 &   0 & NaN &   0 & 0.0000000 &   0 &   0 &   0 &   0 &   0 & 0.0000000 &   0 &   0 & NaN & NaN &   0 & NaN &   0 &   0 &   0 &   0 & 0.4082483 &   0 &   0 &   0 &   0 & NaN & NaN &   0 & NaN &   0 & NaN & 0.000000 & NaN &   0 & NaN &   0 & NaN & NaN &   0 &   0 & NaN & NaN &   0 &   0 &   0 & NaN &   0 &   0 &   0 &   0 &   0 & NaN &   0 &   0 &   0 & NaN &   0 &   0 &   0 &   0 &   0 &   0 &   0 &   0 &   0 & NaN &   0 & NaN & 0.2581989 & 0.0000000 &   0 & NaN & NaN & NaN &   0 & NaN &   0 &   0 &   0 & NaN &   0 & NaN &   0 &   0 & NaN &   0 & NaN &   0 & NaN &   0 &   0 &   0 & NaN &   0 & NaN &   0 & NaN &   0 & NaN &   0 &   0 & NaN & 0.4082483 &   0 &   0 & NaN &   0 &   0 & NaN &   0 & NaN &   0 &   0 &   0 &   0 &   0 &   0 &   0 &   0 &   0 & NaN & 0.5773503 &   0 &   0 & NaN & NaN &   0 & NaN & NaN &   0 &   0 &   0 & 0.5773503 & NaN & NaN &   0 & NaN &   0 &   0 &   0 & NaN &   0 & 0.0000000 &   0 & NaN &   0 &   0 &   0 & NaN &   0 &   0 &   0 &   0 &   0 &   0 &   0 &   0 &   0 & NaN &   0 &   0 &   0 & NaN &   0 &   0 &   0 &   0 &   0 & NaN &   0 &   0 &   0 &   0 &   0 & NaN &   0 &   0 &   0 &   0 &   0 & NaN &   0 &   0 &   0 &   0 & 0.5773503 &   0 &   0 &   0 &   0 &   0 &   0 &   0 &   0 & NaN & 0.5773503 &   0 &   0 &   0 & NaN & 0.1020621 &   0 &   0 &   0 &   0 &   0 &   0 & NaN &   0 &   0 &   0 &   0 &   0 &   0 &   0 & NaN & NaN & NaN & NaN &   0 & NaN &   0 &   0 &   0 & NaN &   0 & NaN & 0.4082483 &   0 &   0 & 0.5773503 &   0 &   0 & NaN & NaN & NaN & NaN & 0.5773503 &   0 &   0 &   0 &   0 &   0 & NaN &   0 &   0 &   0 & NaN &   0 & NaN &   0 & NaN & 0.0000000 & NaN &   0 & NaN & NaN &   0 &   0 & NaN &   0 &   0 &   0 &   0 & NaN & NaN &   0 &   0 & NaN &   0 & NaN &   0 &   0 &   0 & NaN & NaN &   0 & NaN &   0 &   0 & NaN &   0 &   0 &   0 &   0 &   0 &   0 &   0 & NaN &   0 & NaN &   0 &   0 &   0 &   0 & NaN &   0 &   0 &   0 &   0 &   0 &   0 & NaN &   0 &   0 &   0 &   0 &   0 & NaN &   0 & NaN & NaN &   0 &   0 & NaN &   0 &   0 & NaN & NaN & NaN & NaN & NaN & 0.5773503 &   0 &   0 &   0 & NaN &   0 & NaN &   0 &   0 &   0 &   0 &   0 & NaN & NaN & NaN &   0 & NaN &   0 &   0 &   0 & NaN &   0 & NaN &   0 & NaN & NaN &   0 & NaN &   0 &   0 &   0 & 0.0000000 & NaN & NaN & NaN &   0 & NaN & NaN &   0 &   0 &   0 & 0.3333333 & NaN & 0.0000000 &   0 & NaN &   0 &   0 & NaN &   0 & NaN &   0 &   0\\\\\n",
       "\tX10151 & NaN &   0 &   1 & NaN &   0 & NaN &   0 & NaN &   0 &   0 &   0 &   0 &   0 &   0 & NaN &   0 & NaN &   0 &   0 &   0 & NaN & NaN & NaN &   0 &   0 &   0 &   0 & NaN & NaN &   0 &   0 &   0 & NaN & NaN &   0 &   0 &   0 &   0 & NaN &   0 &   0 &   0 &   0 & NaN & NaN & NaN &   0 & NaN &   0 & NaN &   0 &   0 &   0 &   0 &   0 &   0 &   0 & NaN & 0.0000000 & NaN & NaN &   0 &   0 &   0 &   0 & NaN & NaN & NaN & NaN &   0 & NaN & NaN &   0 & NaN &   0 & NaN & NaN & NaN &   0 & NaN &   0 &   0 & NaN &   0 &   0 &   0 &   0 & NaN & NaN &   0 & NaN &   0 &   0 & NaN &   0 & NaN & NaN & 0.0000000 &   0 &   0 & NaN &   0 &   0 & NaN & NaN &   0 &   0 & NaN &   0 & 0.4082483 & NaN & NaN &   0 &   0 &   0 &   0 & NaN &   0 & NaN & NaN & NaN &   0 &   0 & NaN &   0 &   0 & NaN & NaN &   0 & NaN & NaN & NaN & NaN &   0 &   0 &   0 &   0 &   0 &   0 & NaN &   0 &   0 &   0 &   0 &   0 &   0 & NaN &   0 & NaN &   0 &   0 &   0 & NaN &   0 & NaN &   0 &   0 &   0 & NaN & NaN &   0 &   0 & NaN &   0 & 0.0000000 &   0 & NaN &   0 &   0 & NaN &   0 &   0 & NaN & NaN & NaN & NaN & NaN & 0.0000000 &   0 & NaN &   0 &   0 &   0 &   0 &   0 &   0 &   0 &   0 &   0 &   0 &   0 &   0 &   0 & 0.0000000 & NaN &   0 & NaN &   0 & NaN & NaN &   0 &   0 & NaN & NaN & NaN &   0 &   0 &   0 &   0 & 0.0000000 &   0 &   0 &   0 &   0 & NaN &   0 & NaN &   0 &   0 & NaN &   0 &   0 & NaN &   0 & NaN & NaN &   0 &   0 & NaN &   0 &   0 &   0 &   0 &   0 &   0 & 0.0000000 & NaN &   0 &   0 & NaN &   0 &   0 & 0.0000000 & NaN &   0 &   0 &   0 & NaN & NaN &   0 & NaN & NaN &   0 &   0 & NaN &   0 &   0 & NaN & NaN &   0 &   0 &   0 &   0 &   0 & NaN &   0 &   0 &   0 &   0 & NaN & NaN &   0 &   0 &   0 &   0 & 0.0000000 &   0 & NaN & NaN &   0 & NaN &   0 & NaN & NaN &   0 & NaN & NaN &   0 &   0 & NaN &   0 &   0 & NaN & NaN & 0.00000000 & 0.0000000 &   0 &   0 &   0 &   0 &   0 & NaN & NaN &   0 & NaN &   0 &   0 &   0 &   0 & NaN &   0 &   0 & NaN & NaN & NaN &   0 &   0 &   0 &   0 &   0 & NaN &   0 & 0.0000000 &   0 & NaN & NaN &   0 &   0 & NaN & NaN & NaN & NaN &   0 &   0 &   0 & 0.0000000 &   0 &   0 & NaN &   0 &   0 &   0 &   0 &   0 &   0 &   0 &   0 & NaN &   0 &   0 &   0 &   0 & NaN &   0 & NaN &   0 & NaN & NaN &   0 & NaN & NaN &   0 &   0 &   0 & NaN &   0 & NaN &   0 &   0 & NaN &   0 &   0 &   0 & NaN & NaN &   0 &   0 &   0 & NaN &   0 & NaN &   0 &   0 &   0 &   0 &   0 & NaN &   0 & NaN & NaN & NaN &   0 &   0 &   0 &   0 & 0.0000000 & 0.0000000 & NaN & NaN & NaN &   0 & NaN & NaN &   0 &   0 & NaN & NaN &   0 & NaN &   0 &   0 &   0 &   0 &   0 &   0 &   0 &   0 & NaN &   0 &   0 &   0 &   0 & NaN &   0 & NaN & NaN &   0 &   0 &   0 &   0 &   0 &   0 & NaN &   0 &   0 &   0 & NaN &   0 &   0 &   0 & NaN &   0 &   0 & NaN & NaN &   0 & NaN &   0 & 0.0000000 & NaN &   0 & 0.0000000 &   0 & NaN & NaN & NaN &   0 & NaN & NaN &   0 & NaN & 0.0000000 &   0 &   0 & 0.0000000 & NaN & 0.0000000 & 0.0000000 & NaN &   0 & NaN &   0 &   0 &   0 &   0 & 0.0000000 &   0 &   0 & 0.0000000 & NaN &   0 &   0 & 0.0000000 &   0 & 0.0000000 & NaN &   0 &   0 & NaN &   0 &   0 & NaN &   0 &   0 &   0 & NaN &   0 & NaN &   0 &   0 & NaN & NaN &   0 & NaN &   0 & NaN & NaN & NaN & NaN &   0 &   0 &   0 & NaN &   0 &   0 &   0 &   0 &   0 &   0 &   0 & NaN & NaN & NaN & NaN & NaN &   0 & NaN &   0 &   0 & NaN &   0 &   0 &   0 &   0 &   0 & NaN &   0 & NaN &   0 &   0 & NaN & NaN & NaN &   0 &   0 & 0.0000000 & 0.00000000 & NaN & NaN &   0 &   0 & NaN & NaN & NaN & NaN &   0 &   0 & NaN & NaN &   0 &   0 &   0 & NaN &   0 &   0 &   0 & NaN &   0 & NaN &   0 & NaN & NaN & NaN & NaN & NaN &   0 & NaN &   0 &   0 & NaN &   0 & NaN & 0.0000000 & NaN &   0 & NaN & NaN & NaN &   0 &   0 & NaN & NaN &   0 &   0 & NaN &   0 & NaN &   0 &   0 & NaN & NaN &   0 & NaN &   0 &   0 & NaN &   0 & NaN & NaN &   0 & NaN &   0 &   0 &   0 & NaN & NaN &   0 &   0 & NaN & NaN &   0 &   0 &   0 &   0 &   0 & NaN & NaN &   0 &   0 & 0.0000000 & NaN &   0 &   0 &   0 & 0.0000000 &   0 &   0 & NaN & NaN &   0 &   0 &   0 & NaN & NaN &   0 & NaN &   0 & NaN &   0 & NaN &   0 & NaN & NaN &   0 &   0 &   0 & NaN &   0 &   0 &   0 &   0 & NaN &   0 & NaN &   0 & NaN &   0 & NaN & NaN &   0 &   0 &   0 & NaN &   0 &   0 &   0 &   0 &   0 &   0 &   0 & NaN &   0 & NaN &   0 &   0 &   0 & NaN &   0 &   0 & NaN &   0 &   0 &   0 &   0 & NaN &   0 & NaN &   0 &   0 &   0 & NaN & NaN & NaN &   0 & NaN &   0 &   0 &   0 &   0 &   0 &   0 & NaN &   0 &   0 &   0 &   0 & NaN &   0 & 0.0000000 &   0 &   0 &   0 &   0 &   0 & 0.0000000 &   0 &   0 & NaN & NaN &   0 & NaN &   0 &   0 &   0 &   0 & 0.0000000 &   0 &   0 &   0 &   0 & NaN & NaN &   0 & NaN &   0 & NaN & 0.000000 & NaN &   0 & NaN &   0 & NaN & NaN &   0 &   0 & NaN & NaN &   0 &   0 &   0 & NaN &   0 &   0 &   0 &   0 &   0 & NaN &   0 &   0 &   0 & NaN &   0 &   0 &   0 &   0 &   0 &   0 &   0 &   0 &   0 & NaN &   0 & NaN & 0.0000000 & 0.7071068 &   0 & NaN & NaN & NaN &   0 & NaN &   0 &   0 &   0 & NaN &   0 & NaN &   0 &   0 & NaN &   0 & NaN &   0 & NaN &   0 &   0 &   0 & NaN &   0 & NaN &   0 & NaN &   0 & NaN &   0 &   0 & NaN & 0.0000000 &   0 &   0 & NaN &   0 &   0 & NaN &   0 & NaN &   0 &   0 &   0 &   0 &   0 &   0 &   0 &   0 &   0 & NaN & 0.0000000 &   0 &   0 & NaN & NaN &   0 & NaN & NaN &   0 &   0 &   0 & 0.0000000 & NaN & NaN &   0 & NaN &   0 &   0 &   0 & NaN &   0 & 0.0000000 &   0 & NaN &   0 &   0 &   0 & NaN &   0 &   0 &   0 &   0 &   0 &   0 &   0 &   0 &   0 & NaN &   0 &   0 &   0 & NaN &   0 &   0 &   0 &   0 &   0 & NaN &   0 &   0 &   0 &   0 &   0 & NaN &   0 &   0 &   0 &   0 &   0 & NaN &   0 &   0 &   0 &   0 & 0.0000000 &   0 &   0 &   0 &   0 &   0 &   0 &   0 &   0 & NaN & 0.0000000 &   0 &   0 &   0 & NaN & 0.0000000 &   0 &   0 &   0 &   0 &   0 &   0 & NaN &   0 &   0 &   0 &   0 &   0 &   0 &   0 & NaN & NaN & NaN & NaN &   0 & NaN &   0 &   0 &   0 & NaN &   0 & NaN & 0.0000000 &   0 &   0 & 0.0000000 &   0 &   0 & NaN & NaN & NaN & NaN & 0.0000000 &   0 &   0 &   0 &   0 &   0 & NaN &   0 &   0 &   0 & NaN &   0 & NaN &   0 & NaN & 0.0000000 & NaN &   0 & NaN & NaN &   0 &   0 & NaN &   0 &   0 &   0 &   0 & NaN & NaN &   0 &   0 & NaN &   0 & NaN &   0 &   0 &   0 & NaN & NaN &   0 & NaN &   0 &   0 & NaN &   0 &   0 &   0 &   0 &   0 &   0 &   0 & NaN &   0 & NaN &   0 &   0 &   0 &   0 & NaN &   0 &   0 &   0 &   0 &   0 &   0 & NaN &   0 &   0 &   0 &   0 &   0 & NaN &   0 & NaN & NaN &   0 &   0 & NaN &   0 &   0 & NaN & NaN & NaN & NaN & NaN & 0.0000000 &   0 &   0 &   0 & NaN &   0 & NaN &   0 &   0 &   0 &   0 &   0 & NaN & NaN & NaN &   0 & NaN &   0 &   0 &   0 & NaN &   0 & NaN &   0 & NaN & NaN &   0 & NaN &   0 &   0 &   0 & 0.6324555 & NaN & NaN & NaN &   0 & NaN & NaN &   0 &   0 &   0 & 0.0000000 & NaN & 0.0000000 &   0 & NaN &   0 &   0 & NaN &   0 & NaN &   0 &   0\\\\\n",
       "\tX101705 & NaN & NaN & NaN & NaN & NaN & NaN & NaN & NaN & NaN & NaN & NaN & NaN & NaN & NaN & NaN & NaN & NaN & NaN & NaN & NaN & NaN & NaN & NaN & NaN & NaN & NaN & NaN & NaN & NaN & NaN & NaN & NaN & NaN & NaN & NaN & NaN & NaN & NaN & NaN & NaN & NaN & NaN & NaN & NaN & NaN & NaN & NaN & NaN & NaN & NaN & NaN & NaN & NaN & NaN & NaN & NaN & NaN & NaN &       NaN & NaN & NaN & NaN & NaN & NaN & NaN & NaN & NaN & NaN & NaN & NaN & NaN & NaN & NaN & NaN & NaN & NaN & NaN & NaN & NaN & NaN & NaN & NaN & NaN & NaN & NaN & NaN & NaN & NaN & NaN & NaN & NaN & NaN & NaN & NaN & NaN & NaN & NaN &       NaN & NaN & NaN & NaN & NaN & NaN & NaN & NaN & NaN & NaN & NaN & NaN &       NaN & NaN & NaN & NaN & NaN & NaN & NaN & NaN & NaN & NaN & NaN & NaN & NaN & NaN & NaN & NaN & NaN & NaN & NaN & NaN & NaN & NaN & NaN & NaN & NaN & NaN & NaN & NaN & NaN & NaN & NaN & NaN & NaN & NaN & NaN & NaN & NaN & NaN & NaN & NaN & NaN & NaN & NaN & NaN & NaN & NaN & NaN & NaN & NaN & NaN & NaN & NaN & NaN & NaN & NaN &       NaN & NaN & NaN & NaN & NaN & NaN & NaN & NaN & NaN & NaN & NaN & NaN & NaN &       NaN & NaN & NaN & NaN & NaN & NaN & NaN & NaN & NaN & NaN & NaN & NaN & NaN & NaN & NaN & NaN &       NaN & NaN & NaN & NaN & NaN & NaN & NaN & NaN & NaN & NaN & NaN & NaN & NaN & NaN & NaN & NaN &       NaN & NaN & NaN & NaN & NaN & NaN & NaN & NaN & NaN & NaN & NaN & NaN & NaN & NaN & NaN & NaN & NaN & NaN & NaN & NaN & NaN & NaN & NaN & NaN & NaN & NaN &       NaN & NaN & NaN & NaN & NaN & NaN & NaN &       NaN & NaN & NaN & NaN & NaN & NaN & NaN & NaN & NaN & NaN & NaN & NaN & NaN & NaN & NaN & NaN & NaN & NaN & NaN & NaN & NaN & NaN & NaN & NaN & NaN & NaN & NaN & NaN & NaN & NaN & NaN & NaN & NaN &       NaN & NaN & NaN & NaN & NaN & NaN & NaN & NaN & NaN & NaN & NaN & NaN & NaN & NaN & NaN & NaN & NaN & NaN & NaN &        NaN &       NaN & NaN & NaN & NaN & NaN & NaN & NaN & NaN & NaN & NaN & NaN & NaN & NaN & NaN & NaN & NaN & NaN & NaN & NaN & NaN & NaN & NaN & NaN & NaN & NaN & NaN & NaN &       NaN & NaN & NaN & NaN & NaN & NaN & NaN & NaN & NaN & NaN & NaN & NaN & NaN &       NaN & NaN & NaN & NaN & NaN & NaN & NaN & NaN & NaN & NaN & NaN & NaN & NaN & NaN & NaN & NaN & NaN & NaN & NaN & NaN & NaN & NaN & NaN & NaN & NaN & NaN & NaN & NaN & NaN & NaN & NaN & NaN & NaN & NaN & NaN & NaN & NaN & NaN & NaN & NaN & NaN & NaN & NaN & NaN & NaN & NaN & NaN & NaN & NaN & NaN & NaN & NaN & NaN & NaN & NaN & NaN & NaN & NaN & NaN & NaN &       NaN &       NaN & NaN & NaN & NaN & NaN & NaN & NaN & NaN & NaN & NaN & NaN & NaN & NaN & NaN & NaN & NaN & NaN & NaN & NaN & NaN & NaN & NaN & NaN & NaN & NaN & NaN & NaN & NaN & NaN & NaN & NaN & NaN & NaN & NaN & NaN & NaN & NaN & NaN & NaN & NaN & NaN & NaN & NaN & NaN & NaN & NaN & NaN & NaN & NaN & NaN & NaN & NaN &       NaN & NaN & NaN &       NaN & NaN & NaN & NaN & NaN & NaN & NaN & NaN & NaN & NaN &       NaN & NaN & NaN &       NaN & NaN &       NaN &       NaN & NaN & NaN & NaN & NaN & NaN & NaN & NaN &       NaN & NaN & NaN &       NaN & NaN & NaN & NaN &       NaN & NaN &       NaN & NaN & NaN & NaN & NaN & NaN & NaN & NaN & NaN & NaN & NaN & NaN & NaN & NaN & NaN & NaN & NaN & NaN & NaN & NaN & NaN & NaN & NaN & NaN & NaN & NaN & NaN & NaN & NaN & NaN & NaN & NaN & NaN & NaN & NaN & NaN & NaN & NaN & NaN & NaN & NaN & NaN & NaN & NaN & NaN & NaN & NaN & NaN & NaN & NaN & NaN & NaN & NaN & NaN & NaN & NaN & NaN & NaN & NaN & NaN & NaN &       NaN &        NaN & NaN & NaN & NaN & NaN & NaN & NaN & NaN & NaN & NaN & NaN & NaN & NaN & NaN & NaN & NaN & NaN & NaN & NaN & NaN & NaN & NaN & NaN & NaN & NaN & NaN & NaN & NaN & NaN & NaN & NaN & NaN & NaN & NaN & NaN & NaN &       NaN & NaN & NaN & NaN & NaN & NaN & NaN & NaN & NaN & NaN & NaN & NaN & NaN & NaN & NaN & NaN & NaN & NaN & NaN & NaN & NaN & NaN & NaN & NaN & NaN & NaN & NaN & NaN & NaN & NaN & NaN & NaN & NaN & NaN & NaN & NaN & NaN & NaN & NaN & NaN & NaN & NaN & NaN & NaN & NaN & NaN & NaN &       NaN & NaN & NaN & NaN & NaN &       NaN & NaN & NaN & NaN & NaN & NaN & NaN & NaN & NaN & NaN & NaN & NaN & NaN & NaN & NaN & NaN & NaN & NaN & NaN & NaN & NaN & NaN & NaN & NaN & NaN & NaN & NaN & NaN & NaN & NaN & NaN & NaN & NaN & NaN & NaN & NaN & NaN & NaN & NaN & NaN & NaN & NaN & NaN & NaN & NaN & NaN & NaN & NaN & NaN & NaN & NaN & NaN & NaN & NaN & NaN & NaN & NaN & NaN & NaN & NaN & NaN & NaN & NaN & NaN & NaN & NaN & NaN & NaN & NaN & NaN & NaN & NaN & NaN & NaN & NaN & NaN & NaN & NaN & NaN & NaN & NaN & NaN & NaN & NaN &       NaN & NaN & NaN & NaN & NaN & NaN &       NaN & NaN & NaN & NaN & NaN & NaN & NaN & NaN & NaN & NaN & NaN &       NaN & NaN & NaN & NaN & NaN & NaN & NaN & NaN & NaN & NaN & NaN &      NaN & NaN & NaN & NaN & NaN & NaN & NaN & NaN & NaN & NaN & NaN & NaN & NaN & NaN & NaN & NaN & NaN & NaN & NaN & NaN & NaN & NaN & NaN & NaN & NaN & NaN & NaN & NaN & NaN & NaN & NaN & NaN & NaN & NaN & NaN & NaN & NaN &       NaN &       NaN & NaN & NaN & NaN & NaN & NaN & NaN & NaN & NaN & NaN & NaN & NaN & NaN & NaN & NaN & NaN & NaN & NaN & NaN & NaN & NaN & NaN & NaN & NaN & NaN & NaN & NaN & NaN & NaN & NaN & NaN & NaN & NaN &       NaN & NaN & NaN & NaN & NaN & NaN & NaN & NaN & NaN & NaN & NaN & NaN & NaN & NaN & NaN & NaN & NaN & NaN & NaN &       NaN & NaN & NaN & NaN & NaN & NaN & NaN & NaN & NaN & NaN & NaN &       NaN & NaN & NaN & NaN & NaN & NaN & NaN & NaN & NaN & NaN &       NaN & NaN & NaN & NaN & NaN & NaN & NaN & NaN & NaN & NaN & NaN & NaN & NaN & NaN & NaN & NaN & NaN & NaN & NaN & NaN & NaN & NaN & NaN & NaN & NaN & NaN & NaN & NaN & NaN & NaN & NaN & NaN & NaN & NaN & NaN & NaN & NaN & NaN & NaN & NaN & NaN & NaN & NaN &       NaN & NaN & NaN & NaN & NaN & NaN & NaN & NaN & NaN & NaN &       NaN & NaN & NaN & NaN & NaN &       NaN & NaN & NaN & NaN & NaN & NaN & NaN & NaN & NaN & NaN & NaN & NaN & NaN & NaN & NaN & NaN & NaN & NaN & NaN & NaN & NaN & NaN & NaN & NaN & NaN & NaN & NaN &       NaN & NaN & NaN &       NaN & NaN & NaN & NaN & NaN & NaN & NaN &       NaN & NaN & NaN & NaN & NaN & NaN & NaN & NaN & NaN & NaN & NaN & NaN & NaN & NaN & NaN &       NaN & NaN & NaN & NaN & NaN & NaN & NaN & NaN & NaN & NaN & NaN & NaN & NaN & NaN & NaN & NaN & NaN & NaN & NaN & NaN & NaN & NaN & NaN & NaN & NaN & NaN & NaN & NaN & NaN & NaN & NaN & NaN & NaN & NaN & NaN & NaN & NaN & NaN & NaN & NaN & NaN & NaN & NaN & NaN & NaN & NaN & NaN & NaN & NaN & NaN & NaN & NaN & NaN & NaN & NaN & NaN & NaN & NaN & NaN & NaN & NaN & NaN & NaN & NaN & NaN & NaN & NaN & NaN & NaN & NaN &       NaN & NaN & NaN & NaN & NaN & NaN & NaN & NaN & NaN & NaN & NaN & NaN & NaN & NaN & NaN & NaN & NaN & NaN & NaN & NaN & NaN & NaN & NaN & NaN & NaN & NaN & NaN & NaN & NaN & NaN & NaN &       NaN & NaN & NaN & NaN & NaN & NaN & NaN & NaN & NaN & NaN &       NaN & NaN &       NaN & NaN & NaN & NaN & NaN & NaN & NaN & NaN & NaN & NaN\\\\\n",
       "\tX101863 & NaN &   0 &   0 & NaN &   1 & NaN &   0 & NaN &   0 &   0 &   0 &   0 &   0 &   0 & NaN &   0 & NaN &   0 &   0 &   0 & NaN & NaN & NaN &   0 &   0 &   0 &   0 & NaN & NaN &   0 &   0 &   0 & NaN & NaN &   0 &   0 &   0 &   0 & NaN &   0 &   0 &   0 &   0 & NaN & NaN & NaN &   0 & NaN &   0 & NaN &   0 &   0 &   0 &   0 &   0 &   0 &   0 & NaN & 0.0000000 & NaN & NaN &   0 &   0 &   0 &   0 & NaN & NaN & NaN & NaN &   0 & NaN & NaN &   0 & NaN &   0 & NaN & NaN & NaN &   0 & NaN &   0 &   0 & NaN &   0 &   0 &   0 &   0 & NaN & NaN &   0 & NaN &   0 &   0 & NaN &   0 & NaN & NaN & 0.0000000 &   0 &   0 & NaN &   0 &   0 & NaN & NaN &   0 &   0 & NaN &   0 & 0.0000000 & NaN & NaN &   0 &   0 &   0 &   0 & NaN &   0 & NaN & NaN & NaN &   0 &   0 & NaN &   0 &   0 & NaN & NaN &   0 & NaN & NaN & NaN & NaN &   0 &   0 &   0 &   0 &   0 &   0 & NaN &   0 &   0 &   0 &   0 &   0 &   0 & NaN &   0 & NaN &   0 &   0 &   0 & NaN &   0 & NaN &   0 &   0 &   0 & NaN & NaN &   0 &   0 & NaN &   0 & 0.0000000 &   0 & NaN &   0 &   0 & NaN &   0 &   0 & NaN & NaN & NaN & NaN & NaN & 0.0000000 &   0 & NaN &   0 &   0 &   0 &   0 &   0 &   0 &   0 &   0 &   0 &   0 &   0 &   0 &   0 & 0.0000000 & NaN &   0 & NaN &   0 & NaN & NaN &   0 &   0 & NaN & NaN & NaN &   0 &   0 &   0 &   0 & 0.0000000 &   0 &   0 &   0 &   0 & NaN &   0 & NaN &   0 &   0 & NaN &   0 &   0 & NaN &   0 & NaN & NaN &   0 &   0 & NaN &   0 &   0 &   0 &   0 &   0 &   0 & 0.0000000 & NaN &   0 &   0 & NaN &   0 &   0 & 0.0000000 & NaN &   0 &   0 &   0 & NaN & NaN &   0 & NaN & NaN &   0 &   0 & NaN &   0 &   0 & NaN & NaN &   0 &   0 &   0 &   0 &   0 & NaN &   0 &   0 &   0 &   0 & NaN & NaN &   0 &   0 &   0 &   0 & 0.0000000 &   0 & NaN & NaN &   0 & NaN &   0 & NaN & NaN &   0 & NaN & NaN &   0 &   0 & NaN &   0 &   0 & NaN & NaN & 0.09325048 & 0.0000000 &   0 &   0 &   0 &   0 &   0 & NaN & NaN &   0 & NaN &   0 &   0 &   0 &   0 & NaN &   0 &   0 & NaN & NaN & NaN &   0 &   0 &   0 &   0 &   0 & NaN &   0 & 0.0000000 &   0 & NaN & NaN &   0 &   0 & NaN & NaN & NaN & NaN &   0 &   0 &   0 & 0.0000000 &   0 &   0 & NaN &   0 &   0 &   0 &   0 &   0 &   0 &   0 &   0 & NaN &   0 &   0 &   0 &   0 & NaN &   0 & NaN &   0 & NaN & NaN &   0 & NaN & NaN &   0 &   0 &   0 & NaN &   0 & NaN &   0 &   0 & NaN &   0 &   0 &   0 & NaN & NaN &   0 &   0 &   0 & NaN &   0 & NaN &   0 &   0 &   0 &   0 &   0 & NaN &   0 & NaN & NaN & NaN &   0 &   0 &   0 &   0 & 0.0000000 & 0.0000000 & NaN & NaN & NaN &   0 & NaN & NaN &   0 &   0 & NaN & NaN &   0 & NaN &   0 &   0 &   0 &   0 &   0 &   0 &   0 &   0 & NaN &   0 &   0 &   0 &   0 & NaN &   0 & NaN & NaN &   0 &   0 &   0 &   0 &   0 &   0 & NaN &   0 &   0 &   0 & NaN &   0 &   0 &   0 & NaN &   0 &   0 & NaN & NaN &   0 & NaN &   0 & 0.0000000 & NaN &   0 & 0.0000000 &   0 & NaN & NaN & NaN &   0 & NaN & NaN &   0 & NaN & 0.0000000 &   0 &   0 & 0.0000000 & NaN & 0.0000000 & 0.0000000 & NaN &   0 & NaN &   0 &   0 &   0 &   0 & 0.0000000 &   0 &   0 & 0.0000000 & NaN &   0 &   0 & 0.0000000 &   0 & 0.0000000 & NaN &   0 &   0 & NaN &   0 &   0 & NaN &   0 &   0 &   0 & NaN &   0 & NaN &   0 &   0 & NaN & NaN &   0 & NaN &   0 & NaN & NaN & NaN & NaN &   0 &   0 &   0 & NaN &   0 &   0 &   0 &   0 &   0 &   0 &   0 & NaN & NaN & NaN & NaN & NaN &   0 & NaN &   0 &   0 & NaN &   0 &   0 &   0 &   0 &   0 & NaN &   0 & NaN &   0 &   0 & NaN & NaN & NaN &   0 &   0 & 0.0000000 & 0.07669650 & NaN & NaN &   0 &   0 & NaN & NaN & NaN & NaN &   0 &   0 & NaN & NaN &   0 &   0 &   0 & NaN &   0 &   0 &   0 & NaN &   0 & NaN &   0 & NaN & NaN & NaN & NaN & NaN &   0 & NaN &   0 &   0 & NaN &   0 & NaN & 0.0000000 & NaN &   0 & NaN & NaN & NaN &   0 &   0 & NaN & NaN &   0 &   0 & NaN &   0 & NaN &   0 &   0 & NaN & NaN &   0 & NaN &   0 &   0 & NaN &   0 & NaN & NaN &   0 & NaN &   0 &   0 &   0 & NaN & NaN &   0 &   0 & NaN & NaN &   0 &   0 &   0 &   0 &   0 & NaN & NaN &   0 &   0 & 0.0000000 & NaN &   0 &   0 &   0 & 0.0000000 &   0 &   0 & NaN & NaN &   0 &   0 &   0 & NaN & NaN &   0 & NaN &   0 & NaN &   0 & NaN &   0 & NaN & NaN &   0 &   0 &   0 & NaN &   0 &   0 &   0 &   0 & NaN &   0 & NaN &   0 & NaN &   0 & NaN & NaN &   0 &   0 &   0 & NaN &   0 &   0 &   0 &   0 &   0 &   0 &   0 & NaN &   0 & NaN &   0 &   0 &   0 & NaN &   0 &   0 & NaN &   0 &   0 &   0 &   0 & NaN &   0 & NaN &   0 &   0 &   0 & NaN & NaN & NaN &   0 & NaN &   0 &   0 &   0 &   0 &   0 &   0 & NaN &   0 &   0 &   0 &   0 & NaN &   0 & 0.5773503 &   0 &   0 &   0 &   0 &   0 & 0.7071068 &   0 &   0 & NaN & NaN &   0 & NaN &   0 &   0 &   0 &   0 & 0.0000000 &   0 &   0 &   0 &   0 & NaN & NaN &   0 & NaN &   0 & NaN & 0.147442 & NaN &   0 & NaN &   0 & NaN & NaN &   0 &   0 & NaN & NaN &   0 &   0 &   0 & NaN &   0 &   0 &   0 &   0 &   0 & NaN &   0 &   0 &   0 & NaN &   0 &   0 &   0 &   0 &   0 &   0 &   0 &   0 &   0 & NaN &   0 & NaN & 0.0000000 & 0.0000000 &   0 & NaN & NaN & NaN &   0 & NaN &   0 &   0 &   0 & NaN &   0 & NaN &   0 &   0 & NaN &   0 & NaN &   0 & NaN &   0 &   0 &   0 & NaN &   0 & NaN &   0 & NaN &   0 & NaN &   0 &   0 & NaN & 0.0000000 &   0 &   0 & NaN &   0 &   0 & NaN &   0 & NaN &   0 &   0 &   0 &   0 &   0 &   0 &   0 &   0 &   0 & NaN & 0.0000000 &   0 &   0 & NaN & NaN &   0 & NaN & NaN &   0 &   0 &   0 & 0.0000000 & NaN & NaN &   0 & NaN &   0 &   0 &   0 & NaN &   0 & 0.3015113 &   0 & NaN &   0 &   0 &   0 & NaN &   0 &   0 &   0 &   0 &   0 &   0 &   0 &   0 &   0 & NaN &   0 &   0 &   0 & NaN &   0 &   0 &   0 &   0 &   0 & NaN &   0 &   0 &   0 &   0 &   0 & NaN &   0 &   0 &   0 &   0 &   0 & NaN &   0 &   0 &   0 &   0 & 0.0000000 &   0 &   0 &   0 &   0 &   0 &   0 &   0 &   0 & NaN & 0.0000000 &   0 &   0 &   0 & NaN & 0.0000000 &   0 &   0 &   0 &   0 &   0 &   0 & NaN &   0 &   0 &   0 &   0 &   0 &   0 &   0 & NaN & NaN & NaN & NaN &   0 & NaN &   0 &   0 &   0 & NaN &   0 & NaN & 0.0000000 &   0 &   0 & 0.0000000 &   0 &   0 & NaN & NaN & NaN & NaN & 0.0000000 &   0 &   0 &   0 &   0 &   0 & NaN &   0 &   0 &   0 & NaN &   0 & NaN &   0 & NaN & 0.4472136 & NaN &   0 & NaN & NaN &   0 &   0 & NaN &   0 &   0 &   0 &   0 & NaN & NaN &   0 &   0 & NaN &   0 & NaN &   0 &   0 &   0 & NaN & NaN &   0 & NaN &   0 &   0 & NaN &   0 &   0 &   0 &   0 &   0 &   0 &   0 & NaN &   0 & NaN &   0 &   0 &   0 &   0 & NaN &   0 &   0 &   0 &   0 &   0 &   0 & NaN &   0 &   0 &   0 &   0 &   0 & NaN &   0 & NaN & NaN &   0 &   0 & NaN &   0 &   0 & NaN & NaN & NaN & NaN & NaN & 0.0000000 &   0 &   0 &   0 & NaN &   0 & NaN &   0 &   0 &   0 &   0 &   0 & NaN & NaN & NaN &   0 & NaN &   0 &   0 &   0 & NaN &   0 & NaN &   0 & NaN & NaN &   0 & NaN &   0 &   0 &   0 & 0.0000000 & NaN & NaN & NaN &   0 & NaN & NaN &   0 &   0 &   0 & 0.0000000 & NaN & 0.2357023 &   0 & NaN &   0 &   0 & NaN &   0 & NaN &   0 &   0\\\\\n",
       "\tX102458 & NaN & NaN & NaN & NaN & NaN & NaN & NaN & NaN & NaN & NaN & NaN & NaN & NaN & NaN & NaN & NaN & NaN & NaN & NaN & NaN & NaN & NaN & NaN & NaN & NaN & NaN & NaN & NaN & NaN & NaN & NaN & NaN & NaN & NaN & NaN & NaN & NaN & NaN & NaN & NaN & NaN & NaN & NaN & NaN & NaN & NaN & NaN & NaN & NaN & NaN & NaN & NaN & NaN & NaN & NaN & NaN & NaN & NaN &       NaN & NaN & NaN & NaN & NaN & NaN & NaN & NaN & NaN & NaN & NaN & NaN & NaN & NaN & NaN & NaN & NaN & NaN & NaN & NaN & NaN & NaN & NaN & NaN & NaN & NaN & NaN & NaN & NaN & NaN & NaN & NaN & NaN & NaN & NaN & NaN & NaN & NaN & NaN &       NaN & NaN & NaN & NaN & NaN & NaN & NaN & NaN & NaN & NaN & NaN & NaN &       NaN & NaN & NaN & NaN & NaN & NaN & NaN & NaN & NaN & NaN & NaN & NaN & NaN & NaN & NaN & NaN & NaN & NaN & NaN & NaN & NaN & NaN & NaN & NaN & NaN & NaN & NaN & NaN & NaN & NaN & NaN & NaN & NaN & NaN & NaN & NaN & NaN & NaN & NaN & NaN & NaN & NaN & NaN & NaN & NaN & NaN & NaN & NaN & NaN & NaN & NaN & NaN & NaN & NaN & NaN &       NaN & NaN & NaN & NaN & NaN & NaN & NaN & NaN & NaN & NaN & NaN & NaN & NaN &       NaN & NaN & NaN & NaN & NaN & NaN & NaN & NaN & NaN & NaN & NaN & NaN & NaN & NaN & NaN & NaN &       NaN & NaN & NaN & NaN & NaN & NaN & NaN & NaN & NaN & NaN & NaN & NaN & NaN & NaN & NaN & NaN &       NaN & NaN & NaN & NaN & NaN & NaN & NaN & NaN & NaN & NaN & NaN & NaN & NaN & NaN & NaN & NaN & NaN & NaN & NaN & NaN & NaN & NaN & NaN & NaN & NaN & NaN &       NaN & NaN & NaN & NaN & NaN & NaN & NaN &       NaN & NaN & NaN & NaN & NaN & NaN & NaN & NaN & NaN & NaN & NaN & NaN & NaN & NaN & NaN & NaN & NaN & NaN & NaN & NaN & NaN & NaN & NaN & NaN & NaN & NaN & NaN & NaN & NaN & NaN & NaN & NaN & NaN &       NaN & NaN & NaN & NaN & NaN & NaN & NaN & NaN & NaN & NaN & NaN & NaN & NaN & NaN & NaN & NaN & NaN & NaN & NaN &        NaN &       NaN & NaN & NaN & NaN & NaN & NaN & NaN & NaN & NaN & NaN & NaN & NaN & NaN & NaN & NaN & NaN & NaN & NaN & NaN & NaN & NaN & NaN & NaN & NaN & NaN & NaN & NaN &       NaN & NaN & NaN & NaN & NaN & NaN & NaN & NaN & NaN & NaN & NaN & NaN & NaN &       NaN & NaN & NaN & NaN & NaN & NaN & NaN & NaN & NaN & NaN & NaN & NaN & NaN & NaN & NaN & NaN & NaN & NaN & NaN & NaN & NaN & NaN & NaN & NaN & NaN & NaN & NaN & NaN & NaN & NaN & NaN & NaN & NaN & NaN & NaN & NaN & NaN & NaN & NaN & NaN & NaN & NaN & NaN & NaN & NaN & NaN & NaN & NaN & NaN & NaN & NaN & NaN & NaN & NaN & NaN & NaN & NaN & NaN & NaN & NaN &       NaN &       NaN & NaN & NaN & NaN & NaN & NaN & NaN & NaN & NaN & NaN & NaN & NaN & NaN & NaN & NaN & NaN & NaN & NaN & NaN & NaN & NaN & NaN & NaN & NaN & NaN & NaN & NaN & NaN & NaN & NaN & NaN & NaN & NaN & NaN & NaN & NaN & NaN & NaN & NaN & NaN & NaN & NaN & NaN & NaN & NaN & NaN & NaN & NaN & NaN & NaN & NaN & NaN &       NaN & NaN & NaN &       NaN & NaN & NaN & NaN & NaN & NaN & NaN & NaN & NaN & NaN &       NaN & NaN & NaN &       NaN & NaN &       NaN &       NaN & NaN & NaN & NaN & NaN & NaN & NaN & NaN &       NaN & NaN & NaN &       NaN & NaN & NaN & NaN &       NaN & NaN &       NaN & NaN & NaN & NaN & NaN & NaN & NaN & NaN & NaN & NaN & NaN & NaN & NaN & NaN & NaN & NaN & NaN & NaN & NaN & NaN & NaN & NaN & NaN & NaN & NaN & NaN & NaN & NaN & NaN & NaN & NaN & NaN & NaN & NaN & NaN & NaN & NaN & NaN & NaN & NaN & NaN & NaN & NaN & NaN & NaN & NaN & NaN & NaN & NaN & NaN & NaN & NaN & NaN & NaN & NaN & NaN & NaN & NaN & NaN & NaN & NaN &       NaN &        NaN & NaN & NaN & NaN & NaN & NaN & NaN & NaN & NaN & NaN & NaN & NaN & NaN & NaN & NaN & NaN & NaN & NaN & NaN & NaN & NaN & NaN & NaN & NaN & NaN & NaN & NaN & NaN & NaN & NaN & NaN & NaN & NaN & NaN & NaN & NaN &       NaN & NaN & NaN & NaN & NaN & NaN & NaN & NaN & NaN & NaN & NaN & NaN & NaN & NaN & NaN & NaN & NaN & NaN & NaN & NaN & NaN & NaN & NaN & NaN & NaN & NaN & NaN & NaN & NaN & NaN & NaN & NaN & NaN & NaN & NaN & NaN & NaN & NaN & NaN & NaN & NaN & NaN & NaN & NaN & NaN & NaN & NaN &       NaN & NaN & NaN & NaN & NaN &       NaN & NaN & NaN & NaN & NaN & NaN & NaN & NaN & NaN & NaN & NaN & NaN & NaN & NaN & NaN & NaN & NaN & NaN & NaN & NaN & NaN & NaN & NaN & NaN & NaN & NaN & NaN & NaN & NaN & NaN & NaN & NaN & NaN & NaN & NaN & NaN & NaN & NaN & NaN & NaN & NaN & NaN & NaN & NaN & NaN & NaN & NaN & NaN & NaN & NaN & NaN & NaN & NaN & NaN & NaN & NaN & NaN & NaN & NaN & NaN & NaN & NaN & NaN & NaN & NaN & NaN & NaN & NaN & NaN & NaN & NaN & NaN & NaN & NaN & NaN & NaN & NaN & NaN & NaN & NaN & NaN & NaN & NaN & NaN &       NaN & NaN & NaN & NaN & NaN & NaN &       NaN & NaN & NaN & NaN & NaN & NaN & NaN & NaN & NaN & NaN & NaN &       NaN & NaN & NaN & NaN & NaN & NaN & NaN & NaN & NaN & NaN & NaN &      NaN & NaN & NaN & NaN & NaN & NaN & NaN & NaN & NaN & NaN & NaN & NaN & NaN & NaN & NaN & NaN & NaN & NaN & NaN & NaN & NaN & NaN & NaN & NaN & NaN & NaN & NaN & NaN & NaN & NaN & NaN & NaN & NaN & NaN & NaN & NaN & NaN &       NaN &       NaN & NaN & NaN & NaN & NaN & NaN & NaN & NaN & NaN & NaN & NaN & NaN & NaN & NaN & NaN & NaN & NaN & NaN & NaN & NaN & NaN & NaN & NaN & NaN & NaN & NaN & NaN & NaN & NaN & NaN & NaN & NaN & NaN &       NaN & NaN & NaN & NaN & NaN & NaN & NaN & NaN & NaN & NaN & NaN & NaN & NaN & NaN & NaN & NaN & NaN & NaN & NaN &       NaN & NaN & NaN & NaN & NaN & NaN & NaN & NaN & NaN & NaN & NaN &       NaN & NaN & NaN & NaN & NaN & NaN & NaN & NaN & NaN & NaN &       NaN & NaN & NaN & NaN & NaN & NaN & NaN & NaN & NaN & NaN & NaN & NaN & NaN & NaN & NaN & NaN & NaN & NaN & NaN & NaN & NaN & NaN & NaN & NaN & NaN & NaN & NaN & NaN & NaN & NaN & NaN & NaN & NaN & NaN & NaN & NaN & NaN & NaN & NaN & NaN & NaN & NaN & NaN &       NaN & NaN & NaN & NaN & NaN & NaN & NaN & NaN & NaN & NaN &       NaN & NaN & NaN & NaN & NaN &       NaN & NaN & NaN & NaN & NaN & NaN & NaN & NaN & NaN & NaN & NaN & NaN & NaN & NaN & NaN & NaN & NaN & NaN & NaN & NaN & NaN & NaN & NaN & NaN & NaN & NaN & NaN &       NaN & NaN & NaN &       NaN & NaN & NaN & NaN & NaN & NaN & NaN &       NaN & NaN & NaN & NaN & NaN & NaN & NaN & NaN & NaN & NaN & NaN & NaN & NaN & NaN & NaN &       NaN & NaN & NaN & NaN & NaN & NaN & NaN & NaN & NaN & NaN & NaN & NaN & NaN & NaN & NaN & NaN & NaN & NaN & NaN & NaN & NaN & NaN & NaN & NaN & NaN & NaN & NaN & NaN & NaN & NaN & NaN & NaN & NaN & NaN & NaN & NaN & NaN & NaN & NaN & NaN & NaN & NaN & NaN & NaN & NaN & NaN & NaN & NaN & NaN & NaN & NaN & NaN & NaN & NaN & NaN & NaN & NaN & NaN & NaN & NaN & NaN & NaN & NaN & NaN & NaN & NaN & NaN & NaN & NaN & NaN &       NaN & NaN & NaN & NaN & NaN & NaN & NaN & NaN & NaN & NaN & NaN & NaN & NaN & NaN & NaN & NaN & NaN & NaN & NaN & NaN & NaN & NaN & NaN & NaN & NaN & NaN & NaN & NaN & NaN & NaN & NaN &       NaN & NaN & NaN & NaN & NaN & NaN & NaN & NaN & NaN & NaN &       NaN & NaN &       NaN & NaN & NaN & NaN & NaN & NaN & NaN & NaN & NaN & NaN\\\\\n",
       "\\end{tabular}\n"
      ],
      "text/markdown": [
       "\n",
       "A matrix: 6 × 1090 of type dbl\n",
       "\n",
       "| <!--/--> | X100299 | X100967 | X10151 | X101705 | X101863 | X102458 | X102886 | X102966 | X10302 | X103700 | ⋯ | X96767 | X97060 | X97150 | X9721 | X97410 | X97863 | X98185 | X99113 | X9947 | X9993 |\n",
       "|---|---|---|---|---|---|---|---|---|---|---|---|---|---|---|---|---|---|---|---|---|---|\n",
       "| X100299 | NaN | NaN | NaN | NaN | NaN | NaN | NaN | NaN | NaN | NaN | ⋯ |       NaN | NaN | NaN | NaN | NaN | NaN | NaN | NaN | NaN | NaN |\n",
       "| X100967 | NaN |   1 |   0 | NaN |   0 | NaN |   0 | NaN |   0 |   0 | ⋯ | 0.0000000 |   0 | NaN |   0 |   0 | NaN |   0 | NaN |   0 |   0 |\n",
       "| X10151 | NaN |   0 |   1 | NaN |   0 | NaN |   0 | NaN |   0 |   0 | ⋯ | 0.0000000 |   0 | NaN |   0 |   0 | NaN |   0 | NaN |   0 |   0 |\n",
       "| X101705 | NaN | NaN | NaN | NaN | NaN | NaN | NaN | NaN | NaN | NaN | ⋯ |       NaN | NaN | NaN | NaN | NaN | NaN | NaN | NaN | NaN | NaN |\n",
       "| X101863 | NaN |   0 |   0 | NaN |   1 | NaN |   0 | NaN |   0 |   0 | ⋯ | 0.2357023 |   0 | NaN |   0 |   0 | NaN |   0 | NaN |   0 |   0 |\n",
       "| X102458 | NaN | NaN | NaN | NaN | NaN | NaN | NaN | NaN | NaN | NaN | ⋯ |       NaN | NaN | NaN | NaN | NaN | NaN | NaN | NaN | NaN | NaN |\n",
       "\n"
      ],
      "text/plain": [
       "        X100299 X100967 X10151 X101705 X101863 X102458 X102886 X102966 X10302\n",
       "X100299 NaN     NaN     NaN    NaN     NaN     NaN     NaN     NaN     NaN   \n",
       "X100967 NaN       1       0    NaN       0     NaN       0     NaN       0   \n",
       "X10151  NaN       0       1    NaN       0     NaN       0     NaN       0   \n",
       "X101705 NaN     NaN     NaN    NaN     NaN     NaN     NaN     NaN     NaN   \n",
       "X101863 NaN       0       0    NaN       1     NaN       0     NaN       0   \n",
       "X102458 NaN     NaN     NaN    NaN     NaN     NaN     NaN     NaN     NaN   \n",
       "        X103700 ⋯ X96767    X97060 X97150 X9721 X97410 X97863 X98185 X99113\n",
       "X100299 NaN     ⋯       NaN NaN    NaN    NaN   NaN    NaN    NaN    NaN   \n",
       "X100967   0     ⋯ 0.0000000   0    NaN      0     0    NaN      0    NaN   \n",
       "X10151    0     ⋯ 0.0000000   0    NaN      0     0    NaN      0    NaN   \n",
       "X101705 NaN     ⋯       NaN NaN    NaN    NaN   NaN    NaN    NaN    NaN   \n",
       "X101863   0     ⋯ 0.2357023   0    NaN      0     0    NaN      0    NaN   \n",
       "X102458 NaN     ⋯       NaN NaN    NaN    NaN   NaN    NaN    NaN    NaN   \n",
       "        X9947 X9993\n",
       "X100299 NaN   NaN  \n",
       "X100967   0     0  \n",
       "X10151    0     0  \n",
       "X101705 NaN   NaN  \n",
       "X101863   0     0  \n",
       "X102458 NaN   NaN  "
      ]
     },
     "metadata": {},
     "output_type": "display_data"
    }
   ],
   "source": [
    "m.sim.cos = cosinus.mm(m)\n",
    "head(m.sim.cos)"
   ]
  },
  {
   "cell_type": "markdown",
   "metadata": {},
   "source": [
    "On doit maintenant nettoyer un peu nos données. Par exemple la première colonne ne comporte que des NaN, car l'article ne comporte aucune référence vers d'autres articles.\n",
    "\n",
    "Nous allons donc faire la somme de chaque colone et regarder si la somme des distances est suppérieur à 1. Cela permettra de selectionner seulement les articles qui possède au moins une ressemblance avec un autre article (la distance cosinus à lui même est 1. Si une autre distance à un article est définie alors la somme des distances sera suppérieure à 1)."
   ]
  },
  {
   "cell_type": "code",
   "execution_count": 12,
   "metadata": {},
   "outputs": [],
   "source": [
    "index.m.sim.cos.noColNa <- which(colSums(m.sim.cos, na.rm = TRUE) > 1)"
   ]
  },
  {
   "cell_type": "markdown",
   "metadata": {},
   "source": [
    "Une fois les index selectionnés, nous allons créer les matrices de base de notre prédiction:\n",
    "- une matrice m \"propre\", ne comportant que les articles intérésant à analyser\n",
    "- une matrice de prédiction que nous allons remplir avec chaque vecteur prédit\n",
    "- une matrice comportant les distances cosinus des articles sélectionnés"
   ]
  },
  {
   "cell_type": "code",
   "execution_count": 13,
   "metadata": {},
   "outputs": [],
   "source": [
    "m.clean <- m[,index.m.sim.cos.noColNa]\n",
    "\n",
    "m.predicted <- matrix(, nrow=nrow(m.clean), ncol=ncol(m.clean))\n",
    "rownames(m.predicted) <- rownames(m.clean)\n",
    "colnames(m.predicted) <- colnames(m.clean)\n",
    "\n",
    "m.clean.sim.cos <- m.sim.cos[index.m.sim.cos.noColNa,index.m.sim.cos.noColNa]"
   ]
  },
  {
   "cell_type": "markdown",
   "metadata": {},
   "source": [
    "Un petit test de concepte:\n",
    "- on sélectionne l'index du plus proche article d'un article en particulier en omettant lui-même"
   ]
  },
  {
   "cell_type": "code",
   "execution_count": 14,
   "metadata": {},
   "outputs": [],
   "source": [
    "index = 1\n",
    "index.closest <- max.nindex(m.clean.sim.cos[-index,index], 1)"
   ]
  },
  {
   "cell_type": "markdown",
   "metadata": {},
   "source": [
    "-  on remplace ce vecteur dans la matrice de prédiction, là où était l'ancien vecteur réel."
   ]
  },
  {
   "cell_type": "code",
   "execution_count": 15,
   "metadata": {},
   "outputs": [
    {
     "data": {
      "text/html": [
       "<table>\n",
       "<caption>A data.frame: 20 × 2</caption>\n",
       "<thead>\n",
       "\t<tr><th></th><th scope=col>m.clean...index.</th><th scope=col>m.predicted...index.</th></tr>\n",
       "\t<tr><th></th><th scope=col>&lt;int&gt;</th><th scope=col>&lt;int&gt;</th></tr>\n",
       "</thead>\n",
       "<tbody>\n",
       "\t<tr><th scope=row>100299</th><td>0</td><td>0</td></tr>\n",
       "\t<tr><th scope=row>100967</th><td>0</td><td>0</td></tr>\n",
       "\t<tr><th scope=row>10151</th><td>0</td><td>0</td></tr>\n",
       "\t<tr><th scope=row>101705</th><td>0</td><td>0</td></tr>\n",
       "\t<tr><th scope=row>101863</th><td>0</td><td>0</td></tr>\n",
       "\t<tr><th scope=row>102458</th><td>0</td><td>0</td></tr>\n",
       "\t<tr><th scope=row>102886</th><td>0</td><td>0</td></tr>\n",
       "\t<tr><th scope=row>102966</th><td>0</td><td>0</td></tr>\n",
       "\t<tr><th scope=row>10302</th><td>0</td><td>0</td></tr>\n",
       "\t<tr><th scope=row>103700</th><td>0</td><td>0</td></tr>\n",
       "\t<tr><th scope=row>103914</th><td>0</td><td>0</td></tr>\n",
       "\t<tr><th scope=row>10394</th><td>0</td><td>0</td></tr>\n",
       "\t<tr><th scope=row>104047</th><td>0</td><td>0</td></tr>\n",
       "\t<tr><th scope=row>104814</th><td>0</td><td>0</td></tr>\n",
       "\t<tr><th scope=row>104824</th><td>0</td><td>0</td></tr>\n",
       "\t<tr><th scope=row>105046</th><td>0</td><td>0</td></tr>\n",
       "\t<tr><th scope=row>105095</th><td>0</td><td>0</td></tr>\n",
       "\t<tr><th scope=row>105173</th><td>0</td><td>0</td></tr>\n",
       "\t<tr><th scope=row>105199</th><td>0</td><td>0</td></tr>\n",
       "\t<tr><th scope=row>105376</th><td>0</td><td>0</td></tr>\n",
       "</tbody>\n",
       "</table>\n"
      ],
      "text/latex": [
       "A data.frame: 20 × 2\n",
       "\\begin{tabular}{r|ll}\n",
       "  & m.clean...index. & m.predicted...index.\\\\\n",
       "  & <int> & <int>\\\\\n",
       "\\hline\n",
       "\t100299 & 0 & 0\\\\\n",
       "\t100967 & 0 & 0\\\\\n",
       "\t10151 & 0 & 0\\\\\n",
       "\t101705 & 0 & 0\\\\\n",
       "\t101863 & 0 & 0\\\\\n",
       "\t102458 & 0 & 0\\\\\n",
       "\t102886 & 0 & 0\\\\\n",
       "\t102966 & 0 & 0\\\\\n",
       "\t10302 & 0 & 0\\\\\n",
       "\t103700 & 0 & 0\\\\\n",
       "\t103914 & 0 & 0\\\\\n",
       "\t10394 & 0 & 0\\\\\n",
       "\t104047 & 0 & 0\\\\\n",
       "\t104814 & 0 & 0\\\\\n",
       "\t104824 & 0 & 0\\\\\n",
       "\t105046 & 0 & 0\\\\\n",
       "\t105095 & 0 & 0\\\\\n",
       "\t105173 & 0 & 0\\\\\n",
       "\t105199 & 0 & 0\\\\\n",
       "\t105376 & 0 & 0\\\\\n",
       "\\end{tabular}\n"
      ],
      "text/markdown": [
       "\n",
       "A data.frame: 20 × 2\n",
       "\n",
       "| <!--/--> | m.clean...index. &lt;int&gt; | m.predicted...index. &lt;int&gt; |\n",
       "|---|---|---|\n",
       "| 100299 | 0 | 0 |\n",
       "| 100967 | 0 | 0 |\n",
       "| 10151 | 0 | 0 |\n",
       "| 101705 | 0 | 0 |\n",
       "| 101863 | 0 | 0 |\n",
       "| 102458 | 0 | 0 |\n",
       "| 102886 | 0 | 0 |\n",
       "| 102966 | 0 | 0 |\n",
       "| 10302 | 0 | 0 |\n",
       "| 103700 | 0 | 0 |\n",
       "| 103914 | 0 | 0 |\n",
       "| 10394 | 0 | 0 |\n",
       "| 104047 | 0 | 0 |\n",
       "| 104814 | 0 | 0 |\n",
       "| 104824 | 0 | 0 |\n",
       "| 105046 | 0 | 0 |\n",
       "| 105095 | 0 | 0 |\n",
       "| 105173 | 0 | 0 |\n",
       "| 105199 | 0 | 0 |\n",
       "| 105376 | 0 | 0 |\n",
       "\n"
      ],
      "text/plain": [
       "       m.clean...index. m.predicted...index.\n",
       "100299 0                0                   \n",
       "100967 0                0                   \n",
       "10151  0                0                   \n",
       "101705 0                0                   \n",
       "101863 0                0                   \n",
       "102458 0                0                   \n",
       "102886 0                0                   \n",
       "102966 0                0                   \n",
       "10302  0                0                   \n",
       "103700 0                0                   \n",
       "103914 0                0                   \n",
       "10394  0                0                   \n",
       "104047 0                0                   \n",
       "104814 0                0                   \n",
       "104824 0                0                   \n",
       "105046 0                0                   \n",
       "105095 0                0                   \n",
       "105173 0                0                   \n",
       "105199 0                0                   \n",
       "105376 0                0                   "
      ]
     },
     "metadata": {},
     "output_type": "display_data"
    }
   ],
   "source": [
    "m.predicted[,index] <- m.clean[,index.closest]\n",
    "test.i2 <- data.frame(m.clean[,index], m.predicted[,index])\n",
    "head(test.i2, 20)"
   ]
  },
  {
   "cell_type": "markdown",
   "metadata": {},
   "source": [
    "On fait maintenant cela pour tout les articles par index de colone de la matrice"
   ]
  },
  {
   "cell_type": "code",
   "execution_count": 16,
   "metadata": {},
   "outputs": [
    {
     "name": "stdout",
     "output_type": "stream",
     "text": [
      "[1] 0.07384659\n"
     ]
    }
   ],
   "source": [
    "replace_by_closest <- function(index, m.predicted) {\n",
    "  # on selectionne l'index du plus proche vecteur sans prendre en compte lui même\n",
    "  index.closest <- max.nindex(m.clean.sim.cos[-index,index], 1)\n",
    "  m.predicted[,index] <<- m.clean[,index.closest]\n",
    "}\n",
    "\n",
    "buffer <-lapply(1:ncol(m.clean), replace_by_closest, m.predicted)\n",
    "RMSE <- sqrt(mean((m.clean - m.predicted)^2, na.rm=T))\n",
    "print(RMSE)"
   ]
  },
  {
   "cell_type": "markdown",
   "metadata": {},
   "source": [
    "Le problème est qu' un article a en moyenne très peu de citation en commun avec les autres articles (le graph est très peu dense). La valeur de la RMSE est donc biaisée, on ne peut pas prédire efficasement les citations des articles à partir de son plus proche vosisin, car on a trop peu d'articles qui se ressembles.\n",
    "\n",
    "On va maintenant essayer une autre approche.\n",
    "Nous allons faire une validation croisée en Leave-one-out sur une citation à la fois plutôt que sur un article au complet\n",
    "Nous allons retirer une citation d'un article et voir si cette citation fait partie de ses plus proche voisins\n",
    "En leave-one-out, on essaye simplement sur chaque arrête du graph\n",
    "\n",
    "Une petite preuve de concepte:\n",
    "- on selectionne les k plus proche voisins pour un vecteur d'article"
   ]
  },
  {
   "cell_type": "code",
   "execution_count": 17,
   "metadata": {},
   "outputs": [],
   "source": [
    "# on sélection pour l'index 1 ses k plus proches voisins\n",
    "index = 2\n",
    "nombre_de_knn = 5\n",
    "index.closest <- max.nindex(m.clean.sim.cos[-index,index], nombre_de_knn)"
   ]
  },
  {
   "cell_type": "markdown",
   "metadata": {},
   "source": [
    "- on selectionne le subset de la matrice m.clean comportant uniquement ces voisins"
   ]
  },
  {
   "cell_type": "code",
   "execution_count": 18,
   "metadata": {},
   "outputs": [
    {
     "data": {
      "text/html": [
       "<table>\n",
       "<caption>A matrix: 6 × 5 of type int</caption>\n",
       "<thead>\n",
       "\t<tr><th></th><th scope=col>X45071</th><th scope=col>X92901</th><th scope=col>X130238</th><th scope=col>X100967</th><th scope=col>X10151</th></tr>\n",
       "</thead>\n",
       "<tbody>\n",
       "\t<tr><th scope=row>100299</th><td>0</td><td>0</td><td>0</td><td>0</td><td>0</td></tr>\n",
       "\t<tr><th scope=row>100967</th><td>0</td><td>0</td><td>0</td><td>0</td><td>0</td></tr>\n",
       "\t<tr><th scope=row>10151</th><td>0</td><td>0</td><td>0</td><td>0</td><td>1</td></tr>\n",
       "\t<tr><th scope=row>101705</th><td>0</td><td>0</td><td>0</td><td>0</td><td>0</td></tr>\n",
       "\t<tr><th scope=row>101863</th><td>0</td><td>0</td><td>0</td><td>0</td><td>0</td></tr>\n",
       "\t<tr><th scope=row>102458</th><td>0</td><td>0</td><td>0</td><td>0</td><td>0</td></tr>\n",
       "</tbody>\n",
       "</table>\n"
      ],
      "text/latex": [
       "A matrix: 6 × 5 of type int\n",
       "\\begin{tabular}{r|lllll}\n",
       "  & X45071 & X92901 & X130238 & X100967 & X10151\\\\\n",
       "\\hline\n",
       "\t100299 & 0 & 0 & 0 & 0 & 0\\\\\n",
       "\t100967 & 0 & 0 & 0 & 0 & 0\\\\\n",
       "\t10151 & 0 & 0 & 0 & 0 & 1\\\\\n",
       "\t101705 & 0 & 0 & 0 & 0 & 0\\\\\n",
       "\t101863 & 0 & 0 & 0 & 0 & 0\\\\\n",
       "\t102458 & 0 & 0 & 0 & 0 & 0\\\\\n",
       "\\end{tabular}\n"
      ],
      "text/markdown": [
       "\n",
       "A matrix: 6 × 5 of type int\n",
       "\n",
       "| <!--/--> | X45071 | X92901 | X130238 | X100967 | X10151 |\n",
       "|---|---|---|---|---|---|\n",
       "| 100299 | 0 | 0 | 0 | 0 | 0 |\n",
       "| 100967 | 0 | 0 | 0 | 0 | 0 |\n",
       "| 10151 | 0 | 0 | 0 | 0 | 1 |\n",
       "| 101705 | 0 | 0 | 0 | 0 | 0 |\n",
       "| 101863 | 0 | 0 | 0 | 0 | 0 |\n",
       "| 102458 | 0 | 0 | 0 | 0 | 0 |\n",
       "\n"
      ],
      "text/plain": [
       "       X45071 X92901 X130238 X100967 X10151\n",
       "100299 0      0      0       0       0     \n",
       "100967 0      0      0       0       0     \n",
       "10151  0      0      0       0       1     \n",
       "101705 0      0      0       0       0     \n",
       "101863 0      0      0       0       0     \n",
       "102458 0      0      0       0       0     "
      ]
     },
     "metadata": {},
     "output_type": "display_data"
    }
   ],
   "source": [
    " head(m.clean[,index.closest])"
   ]
  },
  {
   "cell_type": "markdown",
   "metadata": {},
   "source": [
    "- le produit matriciel du vecteur de l'article choisi et de la sous matrice de ses plus proches voisins donnera pour chaque vecteur le plus proche son nombre de citation en commun"
   ]
  },
  {
   "cell_type": "code",
   "execution_count": 19,
   "metadata": {},
   "outputs": [
    {
     "data": {
      "text/html": [
       "<table>\n",
       "<caption>A matrix: 1 × 5 of type dbl</caption>\n",
       "<thead>\n",
       "\t<tr><th scope=col>X45071</th><th scope=col>X92901</th><th scope=col>X130238</th><th scope=col>X100967</th><th scope=col>X10151</th></tr>\n",
       "</thead>\n",
       "<tbody>\n",
       "\t<tr><td>0</td><td>0</td><td>0</td><td>0</td><td>2</td></tr>\n",
       "</tbody>\n",
       "</table>\n"
      ],
      "text/latex": [
       "A matrix: 1 × 5 of type dbl\n",
       "\\begin{tabular}{lllll}\n",
       " X45071 & X92901 & X130238 & X100967 & X10151\\\\\n",
       "\\hline\n",
       "\t 0 & 0 & 0 & 0 & 2\\\\\n",
       "\\end{tabular}\n"
      ],
      "text/markdown": [
       "\n",
       "A matrix: 1 × 5 of type dbl\n",
       "\n",
       "| X45071 | X92901 | X130238 | X100967 | X10151 |\n",
       "|---|---|---|---|---|\n",
       "| 0 | 0 | 0 | 0 | 2 |\n",
       "\n"
      ],
      "text/plain": [
       "     X45071 X92901 X130238 X100967 X10151\n",
       "[1,] 0      0      0       0       2     "
      ]
     },
     "metadata": {},
     "output_type": "display_data"
    }
   ],
   "source": [
    "m.clean[, index] %*% m.clean[,index.closest]"
   ]
  },
  {
   "cell_type": "markdown",
   "metadata": {},
   "source": [
    "- on détermine l'accuracy de cet exemple en sommant le nombre de citation en commun et en le divisant par le nombre de citation de l'article"
   ]
  },
  {
   "cell_type": "code",
   "execution_count": 20,
   "metadata": {},
   "outputs": [
    {
     "data": {
      "text/html": [
       "1"
      ],
      "text/latex": [
       "1"
      ],
      "text/markdown": [
       "1"
      ],
      "text/plain": [
       "[1] 1"
      ]
     },
     "metadata": {},
     "output_type": "display_data"
    }
   ],
   "source": [
    "# on ne fait pas de controle sur la division par 0\n",
    "# car la matrice utilisé ne comporte que des articles ayant au moins une citation\n",
    "sum(m.clean[, index] %*% m.clean[,index.closest])/sum(m.clean[, index])"
   ]
  },
  {
   "cell_type": "markdown",
   "metadata": {},
   "source": [
    "Nous allons maintenant faire cela pour tout les articles de la même manière que tout à l'heure"
   ]
  },
  {
   "cell_type": "code",
   "execution_count": 21,
   "metadata": {},
   "outputs": [],
   "source": [
    "get_accuracy_on_vect <- function(index) {\n",
    "    index.closest <- max.nindex(m.clean.sim.cos[-index,index], nombre_de_knn)\n",
    "    return(sum(m.clean[, index] %*% m.clean[,index.closest])/sum(m.clean[, index]))\n",
    "}\n",
    "\n",
    "acc_vect <-lapply(1:ncol(m.clean), get_accuracy_on_vect)\n",
    "acc_on_all_knn <- mean(unlist(acc_vect, use.names=FALSE), rm.na=TRUE)\n"
   ]
  },
  {
   "cell_type": "markdown",
   "metadata": {},
   "source": [
    "Ici, il s'agit du nombre d'article en commun avec ses plus proches voisins (peut être suppérieur à 1 si une de ses citation figure dans plusieur de ses plus proche voisins)"
   ]
  },
  {
   "cell_type": "code",
   "execution_count": 22,
   "metadata": {},
   "outputs": [
    {
     "name": "stdout",
     "output_type": "stream",
     "text": [
      "[1] 1.525779\n"
     ]
    }
   ],
   "source": [
    "print(acc_on_all_knn)"
   ]
  },
  {
   "cell_type": "markdown",
   "metadata": {},
   "source": [
    "En considérant 5 de ces plus proches voisins, un article figure en moyenne 1,5 fois parmis ceux-ci\n",
    "\n",
    "Ici, il s'agit d'une définition plus proche de la notion de précision que l'on connait. On divise le nombre ci-dessus par le nombre de plus proche voisins considérés. Ce nombre sera donc compris entre 0 et 1"
   ]
  },
  {
   "cell_type": "code",
   "execution_count": 23,
   "metadata": {},
   "outputs": [
    {
     "name": "stdout",
     "output_type": "stream",
     "text": [
      "[1] 0.3051558\n"
     ]
    }
   ],
   "source": [
    "acc_by_knn <- acc_on_all_knn / nombre_de_knn\n",
    "print(acc_by_knn)"
   ]
  },
  {
   "cell_type": "markdown",
   "metadata": {},
   "source": [
    "En moyenne, la probabilité qu'une citation soit commune avec un des 5 plus proches voisins en particulier est 0.3"
   ]
  },
  {
   "cell_type": "markdown",
   "metadata": {},
   "source": [
    "Nous allons maintenant essayer de trouver k pour lequel l'accuracy par nombre de plus proche voisins est maximal"
   ]
  },
  {
   "cell_type": "code",
   "execution_count": 24,
   "metadata": {},
   "outputs": [],
   "source": [
    "# on considère jusqu'a 150 plus proches voisins\n",
    "nombre_de_knn = 50\n",
    "\n",
    "acc_by_knn_vect <- lapply(1:50, function(nombre_de_knn){\n",
    "    acc_vect <-lapply(1:ncol(m.clean), function(index) {\n",
    "        index.closest <- max.nindex(m.clean.sim.cos[-index,index], nombre_de_knn)\n",
    "        return(sum(m.clean[, index] %*% m.clean[,index.closest])/sum(m.clean[, index]))\n",
    "    })\n",
    "    acc_on_all_knn <- mean(unlist(acc_vect, use.names=FALSE), rm.na=TRUE)\n",
    "    return(acc_on_all_knn / nombre_de_knn)\n",
    "})\n",
    "acc_on_all_knn_vect <- lapply(1:50, function(nombre_de_knn){\n",
    "    acc_vect <-lapply(1:ncol(m.clean), function(index) {\n",
    "        index.closest <- max.nindex(m.clean.sim.cos[-index,index], nombre_de_knn)\n",
    "        return(sum(m.clean[, index] %*% m.clean[,index.closest])/sum(m.clean[, index]))\n",
    "    })\n",
    "    return(mean(unlist(acc_vect, use.names=FALSE), rm.na=TRUE))\n",
    "})"
   ]
  },
  {
   "cell_type": "markdown",
   "metadata": {},
   "source": [
    "On peut voir que l'accuracy par nombre de voisin le plus proche baisse au fur et à mesure qu'on augmente le nombre de voisin.\n",
    "Cela veut dire que le plus souvent, c'est bien le plus proche voisin qui comporte les articles les plus intéressants."
   ]
  },
  {
   "cell_type": "code",
   "execution_count": 25,
   "metadata": {},
   "outputs": [
    {
     "data": {
      "image/png": "[encoded data removed]",
      "text/plain": [
       "plot without title"
      ]
     },
     "metadata": {},
     "output_type": "display_data"
    }
   ],
   "source": [
    "plot(1:nombre_de_knn, acc_by_knn_vect)"
   ]
  },
  {
   "cell_type": "markdown",
   "metadata": {},
   "source": [
    "Pour information, voila le nombre d'article en moyenne trouvé dans chaque groupe d'article les plus proches"
   ]
  },
  {
   "cell_type": "code",
   "execution_count": 26,
   "metadata": {},
   "outputs": [
    {
     "data": {
      "image/png": "[encoded data removed]",
      "text/plain": [
       "plot without title"
      ]
     },
     "metadata": {},
     "output_type": "display_data"
    }
   ],
   "source": [
    "plot(1:nombre_de_knn, acc_on_all_knn_vect)"
   ]
  },
  {
   "cell_type": "markdown",
   "metadata": {},
   "source": [
    "On peut voir que ce nombre tends vers une valeure finie, un peu suppérieure à 4.\n",
    "\n",
    "La moyenne des publications par article est d'environ:"
   ]
  },
  {
   "cell_type": "code",
   "execution_count": 27,
   "metadata": {},
   "outputs": [
    {
     "data": {
      "text/html": [
       "4.18676470588235"
      ],
      "text/latex": [
       "4.18676470588235"
      ],
      "text/markdown": [
       "4.18676470588235"
      ],
      "text/plain": [
       "[1] 4.186765"
      ]
     },
     "metadata": {},
     "output_type": "display_data"
    }
   ],
   "source": [
    "mean(colSums(m.clean))"
   ]
  },
  {
   "cell_type": "markdown",
   "metadata": {},
   "source": [
    "En moyenne, on trouve donc toujours l'article parmis les plus proches articles si on considère tout les articles comme étant proches, ce qui est logique car nous avons retiré les articles n'ayant aucune citation\n",
    "\n",
    "Ce qui est plus intéressant est que dès 35 voisins considérés, on peut voir qu'en moyenne, la citation considérée se trouvera presque à coup sur parmis les plus proches voisins, car on passe la barre des 4 articles."
   ]
  }
 ],
 "metadata": {
  "kernelspec": {
   "display_name": "R",
   "language": "R",
   "name": "ir"
  },
  "language_info": {
   "codemirror_mode": "r",
   "file_extension": ".r",
   "mimetype": "text/x-r-source",
   "name": "R",
   "pygments_lexer": "r",
   "version": "3.6.1"
  }
 },
 "nbformat": 4,
 "nbformat_minor": 2
}
